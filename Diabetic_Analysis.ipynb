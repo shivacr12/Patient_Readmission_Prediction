{
 "cells": [
  {
   "cell_type": "code",
   "execution_count": 1,
   "metadata": {},
   "outputs": [],
   "source": [
    "import pandas as pd\n",
    "import numpy as np\n",
    "import matplotlib.pyplot as plt\n",
    "import seaborn as sns\n",
    "\n",
    "\n",
    "from scipy import stats\n",
    "from statsmodels.stats.outliers_influence import variance_inflation_factor\n",
    "from scipy.stats import chi2_contingency\n",
    "\n",
    "\n",
    "from sklearn.metrics import confusion_matrix, classification_report, plot_precision_recall_curve,auc\n",
    "from sklearn.metrics import plot_confusion_matrix,roc_curve, roc_auc_score,precision_recall_curve,accuracy_score,f1_score\n",
    "\n",
    "\n",
    "from sklearn.model_selection import GridSearchCV, RandomizedSearchCV, cross_val_score, train_test_split, KFold\n",
    "\n",
    "\n",
    "\n",
    "from sklearn.preprocessing import StandardScaler\n",
    "\n",
    "\n",
    "from sklearn.ensemble import RandomForestClassifier,GradientBoostingClassifier,AdaBoostClassifier,StackingClassifier\n",
    "from sklearn.neighbors import KNeighborsClassifier\n",
    "from sklearn.linear_model import LogisticRegression\n",
    "from sklearn.tree import DecisionTreeClassifier\n",
    "from sklearn.naive_bayes import GaussianNB\n",
    "from sklearn.svm import SVC\n",
    "from xgboost import XGBClassifier\n",
    "\n",
    "from sklearn.feature_selection import RFE,SelectFromModel\n",
    "from mlxtend.feature_selection import SequentialFeatureSelector as sfs\n",
    "\n",
    "\n",
    "import warnings\n",
    "warnings.filterwarnings('ignore')\n",
    "warnings.warn(\"this will not show\")\n",
    "pd.options.display.max_columns = None \n",
    "pd.options.display.max_rows = None\n",
    "sns.set(style='darkgrid')\n",
    "%matplotlib inline"
   ]
  },
  {
   "cell_type": "code",
   "execution_count": 2,
   "metadata": {},
   "outputs": [
    {
     "data": {
      "text/html": [
       "<div>\n",
       "<style scoped>\n",
       "    .dataframe tbody tr th:only-of-type {\n",
       "        vertical-align: middle;\n",
       "    }\n",
       "\n",
       "    .dataframe tbody tr th {\n",
       "        vertical-align: top;\n",
       "    }\n",
       "\n",
       "    .dataframe thead th {\n",
       "        text-align: right;\n",
       "    }\n",
       "</style>\n",
       "<table border=\"1\" class=\"dataframe\">\n",
       "  <thead>\n",
       "    <tr style=\"text-align: right;\">\n",
       "      <th></th>\n",
       "      <th>patient_nbr</th>\n",
       "      <th>time_in_hospital</th>\n",
       "      <th>num_lab_procedures</th>\n",
       "      <th>num_procedures</th>\n",
       "      <th>num_medications</th>\n",
       "      <th>number_outpatient</th>\n",
       "      <th>number_emergency</th>\n",
       "      <th>number_inpatient</th>\n",
       "      <th>number_diagnoses</th>\n",
       "      <th>race</th>\n",
       "      <th>gender</th>\n",
       "      <th>age</th>\n",
       "      <th>admission_type_id</th>\n",
       "      <th>discharge_disposition_id</th>\n",
       "      <th>admission_source_id</th>\n",
       "      <th>diag_1</th>\n",
       "      <th>diag_2</th>\n",
       "      <th>diag_3</th>\n",
       "      <th>max_glu_serum</th>\n",
       "      <th>A1Cresult</th>\n",
       "      <th>metformin</th>\n",
       "      <th>repaglinide</th>\n",
       "      <th>nateglinide</th>\n",
       "      <th>chlorpropamide</th>\n",
       "      <th>glimepiride</th>\n",
       "      <th>acetohexamide</th>\n",
       "      <th>glipizide</th>\n",
       "      <th>glyburide</th>\n",
       "      <th>tolbutamide</th>\n",
       "      <th>pioglitazone</th>\n",
       "      <th>rosiglitazone</th>\n",
       "      <th>acarbose</th>\n",
       "      <th>miglitol</th>\n",
       "      <th>troglitazone</th>\n",
       "      <th>tolazamide</th>\n",
       "      <th>insulin</th>\n",
       "      <th>glyburide-metformin</th>\n",
       "      <th>glipizide-metformin</th>\n",
       "      <th>glimepiride-pioglitazone</th>\n",
       "      <th>metformin-rosiglitazone</th>\n",
       "      <th>metformin-pioglitazone</th>\n",
       "      <th>change</th>\n",
       "      <th>diabetesMed</th>\n",
       "      <th>readmitted</th>\n",
       "    </tr>\n",
       "  </thead>\n",
       "  <tbody>\n",
       "    <tr>\n",
       "      <th>0</th>\n",
       "      <td>8222157</td>\n",
       "      <td>1</td>\n",
       "      <td>41</td>\n",
       "      <td>0</td>\n",
       "      <td>1</td>\n",
       "      <td>0</td>\n",
       "      <td>0</td>\n",
       "      <td>0</td>\n",
       "      <td>1</td>\n",
       "      <td>Caucasian</td>\n",
       "      <td>Female</td>\n",
       "      <td>[0-10)</td>\n",
       "      <td>Other</td>\n",
       "      <td>Other</td>\n",
       "      <td>Referral</td>\n",
       "      <td>Diabetes</td>\n",
       "      <td>NaN</td>\n",
       "      <td>NaN</td>\n",
       "      <td>None</td>\n",
       "      <td>None</td>\n",
       "      <td>No</td>\n",
       "      <td>No</td>\n",
       "      <td>No</td>\n",
       "      <td>No</td>\n",
       "      <td>No</td>\n",
       "      <td>No</td>\n",
       "      <td>No</td>\n",
       "      <td>No</td>\n",
       "      <td>No</td>\n",
       "      <td>No</td>\n",
       "      <td>No</td>\n",
       "      <td>No</td>\n",
       "      <td>No</td>\n",
       "      <td>No</td>\n",
       "      <td>No</td>\n",
       "      <td>No</td>\n",
       "      <td>No</td>\n",
       "      <td>No</td>\n",
       "      <td>No</td>\n",
       "      <td>No</td>\n",
       "      <td>No</td>\n",
       "      <td>No</td>\n",
       "      <td>No</td>\n",
       "      <td>NO</td>\n",
       "    </tr>\n",
       "    <tr>\n",
       "      <th>1</th>\n",
       "      <td>55629189</td>\n",
       "      <td>3</td>\n",
       "      <td>59</td>\n",
       "      <td>0</td>\n",
       "      <td>18</td>\n",
       "      <td>0</td>\n",
       "      <td>0</td>\n",
       "      <td>0</td>\n",
       "      <td>9</td>\n",
       "      <td>Caucasian</td>\n",
       "      <td>Female</td>\n",
       "      <td>[10-20)</td>\n",
       "      <td>Emergency</td>\n",
       "      <td>Discharged Home</td>\n",
       "      <td>Emergency Room</td>\n",
       "      <td>other</td>\n",
       "      <td>Diabetes</td>\n",
       "      <td>other</td>\n",
       "      <td>None</td>\n",
       "      <td>None</td>\n",
       "      <td>No</td>\n",
       "      <td>No</td>\n",
       "      <td>No</td>\n",
       "      <td>No</td>\n",
       "      <td>No</td>\n",
       "      <td>No</td>\n",
       "      <td>No</td>\n",
       "      <td>No</td>\n",
       "      <td>No</td>\n",
       "      <td>No</td>\n",
       "      <td>No</td>\n",
       "      <td>No</td>\n",
       "      <td>No</td>\n",
       "      <td>No</td>\n",
       "      <td>No</td>\n",
       "      <td>Up</td>\n",
       "      <td>No</td>\n",
       "      <td>No</td>\n",
       "      <td>No</td>\n",
       "      <td>No</td>\n",
       "      <td>No</td>\n",
       "      <td>Ch</td>\n",
       "      <td>Yes</td>\n",
       "      <td>&gt;30</td>\n",
       "    </tr>\n",
       "    <tr>\n",
       "      <th>2</th>\n",
       "      <td>86047875</td>\n",
       "      <td>2</td>\n",
       "      <td>11</td>\n",
       "      <td>5</td>\n",
       "      <td>13</td>\n",
       "      <td>2</td>\n",
       "      <td>0</td>\n",
       "      <td>1</td>\n",
       "      <td>6</td>\n",
       "      <td>AfricanAmerican</td>\n",
       "      <td>Female</td>\n",
       "      <td>[20-30)</td>\n",
       "      <td>Emergency</td>\n",
       "      <td>Discharged Home</td>\n",
       "      <td>Emergency Room</td>\n",
       "      <td>other</td>\n",
       "      <td>Diabetes</td>\n",
       "      <td>other</td>\n",
       "      <td>None</td>\n",
       "      <td>None</td>\n",
       "      <td>No</td>\n",
       "      <td>No</td>\n",
       "      <td>No</td>\n",
       "      <td>No</td>\n",
       "      <td>No</td>\n",
       "      <td>No</td>\n",
       "      <td>Steady</td>\n",
       "      <td>No</td>\n",
       "      <td>No</td>\n",
       "      <td>No</td>\n",
       "      <td>No</td>\n",
       "      <td>No</td>\n",
       "      <td>No</td>\n",
       "      <td>No</td>\n",
       "      <td>No</td>\n",
       "      <td>No</td>\n",
       "      <td>No</td>\n",
       "      <td>No</td>\n",
       "      <td>No</td>\n",
       "      <td>No</td>\n",
       "      <td>No</td>\n",
       "      <td>No</td>\n",
       "      <td>Yes</td>\n",
       "      <td>NO</td>\n",
       "    </tr>\n",
       "    <tr>\n",
       "      <th>3</th>\n",
       "      <td>82442376</td>\n",
       "      <td>2</td>\n",
       "      <td>44</td>\n",
       "      <td>1</td>\n",
       "      <td>16</td>\n",
       "      <td>0</td>\n",
       "      <td>0</td>\n",
       "      <td>0</td>\n",
       "      <td>7</td>\n",
       "      <td>Caucasian</td>\n",
       "      <td>Male</td>\n",
       "      <td>[30-40)</td>\n",
       "      <td>Emergency</td>\n",
       "      <td>Discharged Home</td>\n",
       "      <td>Emergency Room</td>\n",
       "      <td>other</td>\n",
       "      <td>Diabetes</td>\n",
       "      <td>Circulatory</td>\n",
       "      <td>None</td>\n",
       "      <td>None</td>\n",
       "      <td>No</td>\n",
       "      <td>No</td>\n",
       "      <td>No</td>\n",
       "      <td>No</td>\n",
       "      <td>No</td>\n",
       "      <td>No</td>\n",
       "      <td>No</td>\n",
       "      <td>No</td>\n",
       "      <td>No</td>\n",
       "      <td>No</td>\n",
       "      <td>No</td>\n",
       "      <td>No</td>\n",
       "      <td>No</td>\n",
       "      <td>No</td>\n",
       "      <td>No</td>\n",
       "      <td>Up</td>\n",
       "      <td>No</td>\n",
       "      <td>No</td>\n",
       "      <td>No</td>\n",
       "      <td>No</td>\n",
       "      <td>No</td>\n",
       "      <td>Ch</td>\n",
       "      <td>Yes</td>\n",
       "      <td>NO</td>\n",
       "    </tr>\n",
       "    <tr>\n",
       "      <th>4</th>\n",
       "      <td>42519267</td>\n",
       "      <td>1</td>\n",
       "      <td>51</td>\n",
       "      <td>0</td>\n",
       "      <td>8</td>\n",
       "      <td>0</td>\n",
       "      <td>0</td>\n",
       "      <td>0</td>\n",
       "      <td>5</td>\n",
       "      <td>Caucasian</td>\n",
       "      <td>Male</td>\n",
       "      <td>[40-50)</td>\n",
       "      <td>Emergency</td>\n",
       "      <td>Discharged Home</td>\n",
       "      <td>Emergency Room</td>\n",
       "      <td>Neoplasms</td>\n",
       "      <td>Neoplasms</td>\n",
       "      <td>Diabetes</td>\n",
       "      <td>None</td>\n",
       "      <td>None</td>\n",
       "      <td>No</td>\n",
       "      <td>No</td>\n",
       "      <td>No</td>\n",
       "      <td>No</td>\n",
       "      <td>No</td>\n",
       "      <td>No</td>\n",
       "      <td>Steady</td>\n",
       "      <td>No</td>\n",
       "      <td>No</td>\n",
       "      <td>No</td>\n",
       "      <td>No</td>\n",
       "      <td>No</td>\n",
       "      <td>No</td>\n",
       "      <td>No</td>\n",
       "      <td>No</td>\n",
       "      <td>Steady</td>\n",
       "      <td>No</td>\n",
       "      <td>No</td>\n",
       "      <td>No</td>\n",
       "      <td>No</td>\n",
       "      <td>No</td>\n",
       "      <td>Ch</td>\n",
       "      <td>Yes</td>\n",
       "      <td>NO</td>\n",
       "    </tr>\n",
       "  </tbody>\n",
       "</table>\n",
       "</div>"
      ],
      "text/plain": [
       "   patient_nbr  time_in_hospital  num_lab_procedures  num_procedures  \\\n",
       "0      8222157                 1                  41               0   \n",
       "1     55629189                 3                  59               0   \n",
       "2     86047875                 2                  11               5   \n",
       "3     82442376                 2                  44               1   \n",
       "4     42519267                 1                  51               0   \n",
       "\n",
       "   num_medications  number_outpatient  number_emergency  number_inpatient  \\\n",
       "0                1                  0                 0                 0   \n",
       "1               18                  0                 0                 0   \n",
       "2               13                  2                 0                 1   \n",
       "3               16                  0                 0                 0   \n",
       "4                8                  0                 0                 0   \n",
       "\n",
       "   number_diagnoses             race  gender      age admission_type_id  \\\n",
       "0                 1        Caucasian  Female   [0-10)             Other   \n",
       "1                 9        Caucasian  Female  [10-20)         Emergency   \n",
       "2                 6  AfricanAmerican  Female  [20-30)         Emergency   \n",
       "3                 7        Caucasian    Male  [30-40)         Emergency   \n",
       "4                 5        Caucasian    Male  [40-50)         Emergency   \n",
       "\n",
       "  discharge_disposition_id admission_source_id     diag_1     diag_2  \\\n",
       "0                    Other            Referral   Diabetes        NaN   \n",
       "1          Discharged Home      Emergency Room      other   Diabetes   \n",
       "2          Discharged Home      Emergency Room      other   Diabetes   \n",
       "3          Discharged Home      Emergency Room      other   Diabetes   \n",
       "4          Discharged Home      Emergency Room  Neoplasms  Neoplasms   \n",
       "\n",
       "        diag_3 max_glu_serum A1Cresult metformin repaglinide nateglinide  \\\n",
       "0          NaN          None      None        No          No          No   \n",
       "1        other          None      None        No          No          No   \n",
       "2        other          None      None        No          No          No   \n",
       "3  Circulatory          None      None        No          No          No   \n",
       "4     Diabetes          None      None        No          No          No   \n",
       "\n",
       "  chlorpropamide glimepiride acetohexamide glipizide glyburide tolbutamide  \\\n",
       "0             No          No            No        No        No          No   \n",
       "1             No          No            No        No        No          No   \n",
       "2             No          No            No    Steady        No          No   \n",
       "3             No          No            No        No        No          No   \n",
       "4             No          No            No    Steady        No          No   \n",
       "\n",
       "  pioglitazone rosiglitazone acarbose miglitol troglitazone tolazamide  \\\n",
       "0           No            No       No       No           No         No   \n",
       "1           No            No       No       No           No         No   \n",
       "2           No            No       No       No           No         No   \n",
       "3           No            No       No       No           No         No   \n",
       "4           No            No       No       No           No         No   \n",
       "\n",
       "  insulin glyburide-metformin glipizide-metformin glimepiride-pioglitazone  \\\n",
       "0      No                  No                  No                       No   \n",
       "1      Up                  No                  No                       No   \n",
       "2      No                  No                  No                       No   \n",
       "3      Up                  No                  No                       No   \n",
       "4  Steady                  No                  No                       No   \n",
       "\n",
       "  metformin-rosiglitazone metformin-pioglitazone change diabetesMed readmitted  \n",
       "0                      No                     No     No          No         NO  \n",
       "1                      No                     No     Ch         Yes        >30  \n",
       "2                      No                     No     No         Yes         NO  \n",
       "3                      No                     No     Ch         Yes         NO  \n",
       "4                      No                     No     Ch         Yes         NO  "
      ]
     },
     "execution_count": 2,
     "metadata": {},
     "output_type": "execute_result"
    }
   ],
   "source": [
    "df_visual_diabetic = pd.read_csv('Diabetic_patients_with_patient_nbr.csv',index_col=0)\n",
    "df_visual_diabetic.head()"
   ]
  },
  {
   "cell_type": "code",
   "execution_count": 3,
   "metadata": {},
   "outputs": [],
   "source": [
    "def categorize_patient_frequency_func(value):\n",
    "    if value==1:\n",
    "        return '1-time'\n",
    "    elif (value > 1) and (value <= 5):\n",
    "        return '2-5 times'\n",
    "    elif (value > 5) and (value <= 10):\n",
    "        return '6-10 times'\n",
    "    return 'more than 10 times'"
   ]
  },
  {
   "cell_type": "code",
   "execution_count": 4,
   "metadata": {},
   "outputs": [],
   "source": [
    "patient_freq_tab = df_visual_diabetic['patient_nbr'].value_counts()"
   ]
  },
  {
   "cell_type": "code",
   "execution_count": 5,
   "metadata": {},
   "outputs": [
    {
     "data": {
      "text/plain": [
       "31164"
      ]
     },
     "execution_count": 5,
     "metadata": {},
     "output_type": "execute_result"
    }
   ],
   "source": [
    "df_visual_diabetic['patient_nbr'].nunique()"
   ]
  },
  {
   "cell_type": "code",
   "execution_count": 6,
   "metadata": {},
   "outputs": [],
   "source": [
    "df_visual_diabetic['patient_frequency'] = df_visual_diabetic['patient_nbr'].map(patient_freq_tab)"
   ]
  },
  {
   "cell_type": "code",
   "execution_count": 7,
   "metadata": {
    "scrolled": true
   },
   "outputs": [
    {
     "data": {
      "text/html": [
       "<div>\n",
       "<style scoped>\n",
       "    .dataframe tbody tr th:only-of-type {\n",
       "        vertical-align: middle;\n",
       "    }\n",
       "\n",
       "    .dataframe tbody tr th {\n",
       "        vertical-align: top;\n",
       "    }\n",
       "\n",
       "    .dataframe thead th {\n",
       "        text-align: right;\n",
       "    }\n",
       "</style>\n",
       "<table border=\"1\" class=\"dataframe\">\n",
       "  <thead>\n",
       "    <tr style=\"text-align: right;\">\n",
       "      <th></th>\n",
       "      <th>patient_nbr</th>\n",
       "      <th>time_in_hospital</th>\n",
       "      <th>num_lab_procedures</th>\n",
       "      <th>num_procedures</th>\n",
       "      <th>num_medications</th>\n",
       "      <th>number_outpatient</th>\n",
       "      <th>number_emergency</th>\n",
       "      <th>number_inpatient</th>\n",
       "      <th>number_diagnoses</th>\n",
       "      <th>race</th>\n",
       "      <th>gender</th>\n",
       "      <th>age</th>\n",
       "      <th>admission_type_id</th>\n",
       "      <th>discharge_disposition_id</th>\n",
       "      <th>admission_source_id</th>\n",
       "      <th>diag_1</th>\n",
       "      <th>diag_2</th>\n",
       "      <th>diag_3</th>\n",
       "      <th>max_glu_serum</th>\n",
       "      <th>A1Cresult</th>\n",
       "      <th>metformin</th>\n",
       "      <th>repaglinide</th>\n",
       "      <th>nateglinide</th>\n",
       "      <th>chlorpropamide</th>\n",
       "      <th>glimepiride</th>\n",
       "      <th>acetohexamide</th>\n",
       "      <th>glipizide</th>\n",
       "      <th>glyburide</th>\n",
       "      <th>tolbutamide</th>\n",
       "      <th>pioglitazone</th>\n",
       "      <th>rosiglitazone</th>\n",
       "      <th>acarbose</th>\n",
       "      <th>miglitol</th>\n",
       "      <th>troglitazone</th>\n",
       "      <th>tolazamide</th>\n",
       "      <th>insulin</th>\n",
       "      <th>glyburide-metformin</th>\n",
       "      <th>glipizide-metformin</th>\n",
       "      <th>glimepiride-pioglitazone</th>\n",
       "      <th>metformin-rosiglitazone</th>\n",
       "      <th>metformin-pioglitazone</th>\n",
       "      <th>change</th>\n",
       "      <th>diabetesMed</th>\n",
       "      <th>readmitted</th>\n",
       "      <th>patient_frequency</th>\n",
       "    </tr>\n",
       "  </thead>\n",
       "  <tbody>\n",
       "    <tr>\n",
       "      <th>0</th>\n",
       "      <td>8222157</td>\n",
       "      <td>1</td>\n",
       "      <td>41</td>\n",
       "      <td>0</td>\n",
       "      <td>1</td>\n",
       "      <td>0</td>\n",
       "      <td>0</td>\n",
       "      <td>0</td>\n",
       "      <td>1</td>\n",
       "      <td>Caucasian</td>\n",
       "      <td>Female</td>\n",
       "      <td>[0-10)</td>\n",
       "      <td>Other</td>\n",
       "      <td>Other</td>\n",
       "      <td>Referral</td>\n",
       "      <td>Diabetes</td>\n",
       "      <td>NaN</td>\n",
       "      <td>NaN</td>\n",
       "      <td>None</td>\n",
       "      <td>None</td>\n",
       "      <td>No</td>\n",
       "      <td>No</td>\n",
       "      <td>No</td>\n",
       "      <td>No</td>\n",
       "      <td>No</td>\n",
       "      <td>No</td>\n",
       "      <td>No</td>\n",
       "      <td>No</td>\n",
       "      <td>No</td>\n",
       "      <td>No</td>\n",
       "      <td>No</td>\n",
       "      <td>No</td>\n",
       "      <td>No</td>\n",
       "      <td>No</td>\n",
       "      <td>No</td>\n",
       "      <td>No</td>\n",
       "      <td>No</td>\n",
       "      <td>No</td>\n",
       "      <td>No</td>\n",
       "      <td>No</td>\n",
       "      <td>No</td>\n",
       "      <td>No</td>\n",
       "      <td>No</td>\n",
       "      <td>NO</td>\n",
       "      <td>1</td>\n",
       "    </tr>\n",
       "    <tr>\n",
       "      <th>1</th>\n",
       "      <td>55629189</td>\n",
       "      <td>3</td>\n",
       "      <td>59</td>\n",
       "      <td>0</td>\n",
       "      <td>18</td>\n",
       "      <td>0</td>\n",
       "      <td>0</td>\n",
       "      <td>0</td>\n",
       "      <td>9</td>\n",
       "      <td>Caucasian</td>\n",
       "      <td>Female</td>\n",
       "      <td>[10-20)</td>\n",
       "      <td>Emergency</td>\n",
       "      <td>Discharged Home</td>\n",
       "      <td>Emergency Room</td>\n",
       "      <td>other</td>\n",
       "      <td>Diabetes</td>\n",
       "      <td>other</td>\n",
       "      <td>None</td>\n",
       "      <td>None</td>\n",
       "      <td>No</td>\n",
       "      <td>No</td>\n",
       "      <td>No</td>\n",
       "      <td>No</td>\n",
       "      <td>No</td>\n",
       "      <td>No</td>\n",
       "      <td>No</td>\n",
       "      <td>No</td>\n",
       "      <td>No</td>\n",
       "      <td>No</td>\n",
       "      <td>No</td>\n",
       "      <td>No</td>\n",
       "      <td>No</td>\n",
       "      <td>No</td>\n",
       "      <td>No</td>\n",
       "      <td>Up</td>\n",
       "      <td>No</td>\n",
       "      <td>No</td>\n",
       "      <td>No</td>\n",
       "      <td>No</td>\n",
       "      <td>No</td>\n",
       "      <td>Ch</td>\n",
       "      <td>Yes</td>\n",
       "      <td>&gt;30</td>\n",
       "      <td>1</td>\n",
       "    </tr>\n",
       "    <tr>\n",
       "      <th>2</th>\n",
       "      <td>86047875</td>\n",
       "      <td>2</td>\n",
       "      <td>11</td>\n",
       "      <td>5</td>\n",
       "      <td>13</td>\n",
       "      <td>2</td>\n",
       "      <td>0</td>\n",
       "      <td>1</td>\n",
       "      <td>6</td>\n",
       "      <td>AfricanAmerican</td>\n",
       "      <td>Female</td>\n",
       "      <td>[20-30)</td>\n",
       "      <td>Emergency</td>\n",
       "      <td>Discharged Home</td>\n",
       "      <td>Emergency Room</td>\n",
       "      <td>other</td>\n",
       "      <td>Diabetes</td>\n",
       "      <td>other</td>\n",
       "      <td>None</td>\n",
       "      <td>None</td>\n",
       "      <td>No</td>\n",
       "      <td>No</td>\n",
       "      <td>No</td>\n",
       "      <td>No</td>\n",
       "      <td>No</td>\n",
       "      <td>No</td>\n",
       "      <td>Steady</td>\n",
       "      <td>No</td>\n",
       "      <td>No</td>\n",
       "      <td>No</td>\n",
       "      <td>No</td>\n",
       "      <td>No</td>\n",
       "      <td>No</td>\n",
       "      <td>No</td>\n",
       "      <td>No</td>\n",
       "      <td>No</td>\n",
       "      <td>No</td>\n",
       "      <td>No</td>\n",
       "      <td>No</td>\n",
       "      <td>No</td>\n",
       "      <td>No</td>\n",
       "      <td>No</td>\n",
       "      <td>Yes</td>\n",
       "      <td>NO</td>\n",
       "      <td>1</td>\n",
       "    </tr>\n",
       "    <tr>\n",
       "      <th>3</th>\n",
       "      <td>82442376</td>\n",
       "      <td>2</td>\n",
       "      <td>44</td>\n",
       "      <td>1</td>\n",
       "      <td>16</td>\n",
       "      <td>0</td>\n",
       "      <td>0</td>\n",
       "      <td>0</td>\n",
       "      <td>7</td>\n",
       "      <td>Caucasian</td>\n",
       "      <td>Male</td>\n",
       "      <td>[30-40)</td>\n",
       "      <td>Emergency</td>\n",
       "      <td>Discharged Home</td>\n",
       "      <td>Emergency Room</td>\n",
       "      <td>other</td>\n",
       "      <td>Diabetes</td>\n",
       "      <td>Circulatory</td>\n",
       "      <td>None</td>\n",
       "      <td>None</td>\n",
       "      <td>No</td>\n",
       "      <td>No</td>\n",
       "      <td>No</td>\n",
       "      <td>No</td>\n",
       "      <td>No</td>\n",
       "      <td>No</td>\n",
       "      <td>No</td>\n",
       "      <td>No</td>\n",
       "      <td>No</td>\n",
       "      <td>No</td>\n",
       "      <td>No</td>\n",
       "      <td>No</td>\n",
       "      <td>No</td>\n",
       "      <td>No</td>\n",
       "      <td>No</td>\n",
       "      <td>Up</td>\n",
       "      <td>No</td>\n",
       "      <td>No</td>\n",
       "      <td>No</td>\n",
       "      <td>No</td>\n",
       "      <td>No</td>\n",
       "      <td>Ch</td>\n",
       "      <td>Yes</td>\n",
       "      <td>NO</td>\n",
       "      <td>1</td>\n",
       "    </tr>\n",
       "    <tr>\n",
       "      <th>4</th>\n",
       "      <td>42519267</td>\n",
       "      <td>1</td>\n",
       "      <td>51</td>\n",
       "      <td>0</td>\n",
       "      <td>8</td>\n",
       "      <td>0</td>\n",
       "      <td>0</td>\n",
       "      <td>0</td>\n",
       "      <td>5</td>\n",
       "      <td>Caucasian</td>\n",
       "      <td>Male</td>\n",
       "      <td>[40-50)</td>\n",
       "      <td>Emergency</td>\n",
       "      <td>Discharged Home</td>\n",
       "      <td>Emergency Room</td>\n",
       "      <td>Neoplasms</td>\n",
       "      <td>Neoplasms</td>\n",
       "      <td>Diabetes</td>\n",
       "      <td>None</td>\n",
       "      <td>None</td>\n",
       "      <td>No</td>\n",
       "      <td>No</td>\n",
       "      <td>No</td>\n",
       "      <td>No</td>\n",
       "      <td>No</td>\n",
       "      <td>No</td>\n",
       "      <td>Steady</td>\n",
       "      <td>No</td>\n",
       "      <td>No</td>\n",
       "      <td>No</td>\n",
       "      <td>No</td>\n",
       "      <td>No</td>\n",
       "      <td>No</td>\n",
       "      <td>No</td>\n",
       "      <td>No</td>\n",
       "      <td>Steady</td>\n",
       "      <td>No</td>\n",
       "      <td>No</td>\n",
       "      <td>No</td>\n",
       "      <td>No</td>\n",
       "      <td>No</td>\n",
       "      <td>Ch</td>\n",
       "      <td>Yes</td>\n",
       "      <td>NO</td>\n",
       "      <td>1</td>\n",
       "    </tr>\n",
       "  </tbody>\n",
       "</table>\n",
       "</div>"
      ],
      "text/plain": [
       "   patient_nbr  time_in_hospital  num_lab_procedures  num_procedures  \\\n",
       "0      8222157                 1                  41               0   \n",
       "1     55629189                 3                  59               0   \n",
       "2     86047875                 2                  11               5   \n",
       "3     82442376                 2                  44               1   \n",
       "4     42519267                 1                  51               0   \n",
       "\n",
       "   num_medications  number_outpatient  number_emergency  number_inpatient  \\\n",
       "0                1                  0                 0                 0   \n",
       "1               18                  0                 0                 0   \n",
       "2               13                  2                 0                 1   \n",
       "3               16                  0                 0                 0   \n",
       "4                8                  0                 0                 0   \n",
       "\n",
       "   number_diagnoses             race  gender      age admission_type_id  \\\n",
       "0                 1        Caucasian  Female   [0-10)             Other   \n",
       "1                 9        Caucasian  Female  [10-20)         Emergency   \n",
       "2                 6  AfricanAmerican  Female  [20-30)         Emergency   \n",
       "3                 7        Caucasian    Male  [30-40)         Emergency   \n",
       "4                 5        Caucasian    Male  [40-50)         Emergency   \n",
       "\n",
       "  discharge_disposition_id admission_source_id     diag_1     diag_2  \\\n",
       "0                    Other            Referral   Diabetes        NaN   \n",
       "1          Discharged Home      Emergency Room      other   Diabetes   \n",
       "2          Discharged Home      Emergency Room      other   Diabetes   \n",
       "3          Discharged Home      Emergency Room      other   Diabetes   \n",
       "4          Discharged Home      Emergency Room  Neoplasms  Neoplasms   \n",
       "\n",
       "        diag_3 max_glu_serum A1Cresult metformin repaglinide nateglinide  \\\n",
       "0          NaN          None      None        No          No          No   \n",
       "1        other          None      None        No          No          No   \n",
       "2        other          None      None        No          No          No   \n",
       "3  Circulatory          None      None        No          No          No   \n",
       "4     Diabetes          None      None        No          No          No   \n",
       "\n",
       "  chlorpropamide glimepiride acetohexamide glipizide glyburide tolbutamide  \\\n",
       "0             No          No            No        No        No          No   \n",
       "1             No          No            No        No        No          No   \n",
       "2             No          No            No    Steady        No          No   \n",
       "3             No          No            No        No        No          No   \n",
       "4             No          No            No    Steady        No          No   \n",
       "\n",
       "  pioglitazone rosiglitazone acarbose miglitol troglitazone tolazamide  \\\n",
       "0           No            No       No       No           No         No   \n",
       "1           No            No       No       No           No         No   \n",
       "2           No            No       No       No           No         No   \n",
       "3           No            No       No       No           No         No   \n",
       "4           No            No       No       No           No         No   \n",
       "\n",
       "  insulin glyburide-metformin glipizide-metformin glimepiride-pioglitazone  \\\n",
       "0      No                  No                  No                       No   \n",
       "1      Up                  No                  No                       No   \n",
       "2      No                  No                  No                       No   \n",
       "3      Up                  No                  No                       No   \n",
       "4  Steady                  No                  No                       No   \n",
       "\n",
       "  metformin-rosiglitazone metformin-pioglitazone change diabetesMed  \\\n",
       "0                      No                     No     No          No   \n",
       "1                      No                     No     Ch         Yes   \n",
       "2                      No                     No     No         Yes   \n",
       "3                      No                     No     Ch         Yes   \n",
       "4                      No                     No     Ch         Yes   \n",
       "\n",
       "  readmitted  patient_frequency  \n",
       "0         NO                  1  \n",
       "1        >30                  1  \n",
       "2         NO                  1  \n",
       "3         NO                  1  \n",
       "4         NO                  1  "
      ]
     },
     "execution_count": 7,
     "metadata": {},
     "output_type": "execute_result"
    }
   ],
   "source": [
    "df_visual_diabetic.head()"
   ]
  },
  {
   "cell_type": "code",
   "execution_count": 8,
   "metadata": {},
   "outputs": [],
   "source": [
    "list_of_cols = list(df_visual_diabetic.columns)"
   ]
  },
  {
   "cell_type": "code",
   "execution_count": 9,
   "metadata": {},
   "outputs": [],
   "source": [
    "list_of_cols = [list_of_cols.pop()] + list_of_cols"
   ]
  },
  {
   "cell_type": "code",
   "execution_count": 10,
   "metadata": {},
   "outputs": [],
   "source": [
    "df_visual_diabetic = df_visual_diabetic[list_of_cols]"
   ]
  },
  {
   "cell_type": "code",
   "execution_count": 11,
   "metadata": {
    "scrolled": true
   },
   "outputs": [
    {
     "data": {
      "text/html": [
       "<div>\n",
       "<style scoped>\n",
       "    .dataframe tbody tr th:only-of-type {\n",
       "        vertical-align: middle;\n",
       "    }\n",
       "\n",
       "    .dataframe tbody tr th {\n",
       "        vertical-align: top;\n",
       "    }\n",
       "\n",
       "    .dataframe thead th {\n",
       "        text-align: right;\n",
       "    }\n",
       "</style>\n",
       "<table border=\"1\" class=\"dataframe\">\n",
       "  <thead>\n",
       "    <tr style=\"text-align: right;\">\n",
       "      <th></th>\n",
       "      <th>patient_frequency</th>\n",
       "      <th>patient_nbr</th>\n",
       "      <th>time_in_hospital</th>\n",
       "      <th>num_lab_procedures</th>\n",
       "      <th>num_procedures</th>\n",
       "      <th>num_medications</th>\n",
       "      <th>number_outpatient</th>\n",
       "      <th>number_emergency</th>\n",
       "      <th>number_inpatient</th>\n",
       "      <th>number_diagnoses</th>\n",
       "      <th>race</th>\n",
       "      <th>gender</th>\n",
       "      <th>age</th>\n",
       "      <th>admission_type_id</th>\n",
       "      <th>discharge_disposition_id</th>\n",
       "      <th>admission_source_id</th>\n",
       "      <th>diag_1</th>\n",
       "      <th>diag_2</th>\n",
       "      <th>diag_3</th>\n",
       "      <th>max_glu_serum</th>\n",
       "      <th>A1Cresult</th>\n",
       "      <th>metformin</th>\n",
       "      <th>repaglinide</th>\n",
       "      <th>nateglinide</th>\n",
       "      <th>chlorpropamide</th>\n",
       "      <th>glimepiride</th>\n",
       "      <th>acetohexamide</th>\n",
       "      <th>glipizide</th>\n",
       "      <th>glyburide</th>\n",
       "      <th>tolbutamide</th>\n",
       "      <th>pioglitazone</th>\n",
       "      <th>rosiglitazone</th>\n",
       "      <th>acarbose</th>\n",
       "      <th>miglitol</th>\n",
       "      <th>troglitazone</th>\n",
       "      <th>tolazamide</th>\n",
       "      <th>insulin</th>\n",
       "      <th>glyburide-metformin</th>\n",
       "      <th>glipizide-metformin</th>\n",
       "      <th>glimepiride-pioglitazone</th>\n",
       "      <th>metformin-rosiglitazone</th>\n",
       "      <th>metformin-pioglitazone</th>\n",
       "      <th>change</th>\n",
       "      <th>diabetesMed</th>\n",
       "      <th>readmitted</th>\n",
       "    </tr>\n",
       "  </thead>\n",
       "  <tbody>\n",
       "    <tr>\n",
       "      <th>0</th>\n",
       "      <td>1</td>\n",
       "      <td>8222157</td>\n",
       "      <td>1</td>\n",
       "      <td>41</td>\n",
       "      <td>0</td>\n",
       "      <td>1</td>\n",
       "      <td>0</td>\n",
       "      <td>0</td>\n",
       "      <td>0</td>\n",
       "      <td>1</td>\n",
       "      <td>Caucasian</td>\n",
       "      <td>Female</td>\n",
       "      <td>[0-10)</td>\n",
       "      <td>Other</td>\n",
       "      <td>Other</td>\n",
       "      <td>Referral</td>\n",
       "      <td>Diabetes</td>\n",
       "      <td>NaN</td>\n",
       "      <td>NaN</td>\n",
       "      <td>None</td>\n",
       "      <td>None</td>\n",
       "      <td>No</td>\n",
       "      <td>No</td>\n",
       "      <td>No</td>\n",
       "      <td>No</td>\n",
       "      <td>No</td>\n",
       "      <td>No</td>\n",
       "      <td>No</td>\n",
       "      <td>No</td>\n",
       "      <td>No</td>\n",
       "      <td>No</td>\n",
       "      <td>No</td>\n",
       "      <td>No</td>\n",
       "      <td>No</td>\n",
       "      <td>No</td>\n",
       "      <td>No</td>\n",
       "      <td>No</td>\n",
       "      <td>No</td>\n",
       "      <td>No</td>\n",
       "      <td>No</td>\n",
       "      <td>No</td>\n",
       "      <td>No</td>\n",
       "      <td>No</td>\n",
       "      <td>No</td>\n",
       "      <td>NO</td>\n",
       "    </tr>\n",
       "    <tr>\n",
       "      <th>1</th>\n",
       "      <td>1</td>\n",
       "      <td>55629189</td>\n",
       "      <td>3</td>\n",
       "      <td>59</td>\n",
       "      <td>0</td>\n",
       "      <td>18</td>\n",
       "      <td>0</td>\n",
       "      <td>0</td>\n",
       "      <td>0</td>\n",
       "      <td>9</td>\n",
       "      <td>Caucasian</td>\n",
       "      <td>Female</td>\n",
       "      <td>[10-20)</td>\n",
       "      <td>Emergency</td>\n",
       "      <td>Discharged Home</td>\n",
       "      <td>Emergency Room</td>\n",
       "      <td>other</td>\n",
       "      <td>Diabetes</td>\n",
       "      <td>other</td>\n",
       "      <td>None</td>\n",
       "      <td>None</td>\n",
       "      <td>No</td>\n",
       "      <td>No</td>\n",
       "      <td>No</td>\n",
       "      <td>No</td>\n",
       "      <td>No</td>\n",
       "      <td>No</td>\n",
       "      <td>No</td>\n",
       "      <td>No</td>\n",
       "      <td>No</td>\n",
       "      <td>No</td>\n",
       "      <td>No</td>\n",
       "      <td>No</td>\n",
       "      <td>No</td>\n",
       "      <td>No</td>\n",
       "      <td>No</td>\n",
       "      <td>Up</td>\n",
       "      <td>No</td>\n",
       "      <td>No</td>\n",
       "      <td>No</td>\n",
       "      <td>No</td>\n",
       "      <td>No</td>\n",
       "      <td>Ch</td>\n",
       "      <td>Yes</td>\n",
       "      <td>&gt;30</td>\n",
       "    </tr>\n",
       "    <tr>\n",
       "      <th>2</th>\n",
       "      <td>1</td>\n",
       "      <td>86047875</td>\n",
       "      <td>2</td>\n",
       "      <td>11</td>\n",
       "      <td>5</td>\n",
       "      <td>13</td>\n",
       "      <td>2</td>\n",
       "      <td>0</td>\n",
       "      <td>1</td>\n",
       "      <td>6</td>\n",
       "      <td>AfricanAmerican</td>\n",
       "      <td>Female</td>\n",
       "      <td>[20-30)</td>\n",
       "      <td>Emergency</td>\n",
       "      <td>Discharged Home</td>\n",
       "      <td>Emergency Room</td>\n",
       "      <td>other</td>\n",
       "      <td>Diabetes</td>\n",
       "      <td>other</td>\n",
       "      <td>None</td>\n",
       "      <td>None</td>\n",
       "      <td>No</td>\n",
       "      <td>No</td>\n",
       "      <td>No</td>\n",
       "      <td>No</td>\n",
       "      <td>No</td>\n",
       "      <td>No</td>\n",
       "      <td>Steady</td>\n",
       "      <td>No</td>\n",
       "      <td>No</td>\n",
       "      <td>No</td>\n",
       "      <td>No</td>\n",
       "      <td>No</td>\n",
       "      <td>No</td>\n",
       "      <td>No</td>\n",
       "      <td>No</td>\n",
       "      <td>No</td>\n",
       "      <td>No</td>\n",
       "      <td>No</td>\n",
       "      <td>No</td>\n",
       "      <td>No</td>\n",
       "      <td>No</td>\n",
       "      <td>No</td>\n",
       "      <td>Yes</td>\n",
       "      <td>NO</td>\n",
       "    </tr>\n",
       "    <tr>\n",
       "      <th>3</th>\n",
       "      <td>1</td>\n",
       "      <td>82442376</td>\n",
       "      <td>2</td>\n",
       "      <td>44</td>\n",
       "      <td>1</td>\n",
       "      <td>16</td>\n",
       "      <td>0</td>\n",
       "      <td>0</td>\n",
       "      <td>0</td>\n",
       "      <td>7</td>\n",
       "      <td>Caucasian</td>\n",
       "      <td>Male</td>\n",
       "      <td>[30-40)</td>\n",
       "      <td>Emergency</td>\n",
       "      <td>Discharged Home</td>\n",
       "      <td>Emergency Room</td>\n",
       "      <td>other</td>\n",
       "      <td>Diabetes</td>\n",
       "      <td>Circulatory</td>\n",
       "      <td>None</td>\n",
       "      <td>None</td>\n",
       "      <td>No</td>\n",
       "      <td>No</td>\n",
       "      <td>No</td>\n",
       "      <td>No</td>\n",
       "      <td>No</td>\n",
       "      <td>No</td>\n",
       "      <td>No</td>\n",
       "      <td>No</td>\n",
       "      <td>No</td>\n",
       "      <td>No</td>\n",
       "      <td>No</td>\n",
       "      <td>No</td>\n",
       "      <td>No</td>\n",
       "      <td>No</td>\n",
       "      <td>No</td>\n",
       "      <td>Up</td>\n",
       "      <td>No</td>\n",
       "      <td>No</td>\n",
       "      <td>No</td>\n",
       "      <td>No</td>\n",
       "      <td>No</td>\n",
       "      <td>Ch</td>\n",
       "      <td>Yes</td>\n",
       "      <td>NO</td>\n",
       "    </tr>\n",
       "    <tr>\n",
       "      <th>4</th>\n",
       "      <td>1</td>\n",
       "      <td>42519267</td>\n",
       "      <td>1</td>\n",
       "      <td>51</td>\n",
       "      <td>0</td>\n",
       "      <td>8</td>\n",
       "      <td>0</td>\n",
       "      <td>0</td>\n",
       "      <td>0</td>\n",
       "      <td>5</td>\n",
       "      <td>Caucasian</td>\n",
       "      <td>Male</td>\n",
       "      <td>[40-50)</td>\n",
       "      <td>Emergency</td>\n",
       "      <td>Discharged Home</td>\n",
       "      <td>Emergency Room</td>\n",
       "      <td>Neoplasms</td>\n",
       "      <td>Neoplasms</td>\n",
       "      <td>Diabetes</td>\n",
       "      <td>None</td>\n",
       "      <td>None</td>\n",
       "      <td>No</td>\n",
       "      <td>No</td>\n",
       "      <td>No</td>\n",
       "      <td>No</td>\n",
       "      <td>No</td>\n",
       "      <td>No</td>\n",
       "      <td>Steady</td>\n",
       "      <td>No</td>\n",
       "      <td>No</td>\n",
       "      <td>No</td>\n",
       "      <td>No</td>\n",
       "      <td>No</td>\n",
       "      <td>No</td>\n",
       "      <td>No</td>\n",
       "      <td>No</td>\n",
       "      <td>Steady</td>\n",
       "      <td>No</td>\n",
       "      <td>No</td>\n",
       "      <td>No</td>\n",
       "      <td>No</td>\n",
       "      <td>No</td>\n",
       "      <td>Ch</td>\n",
       "      <td>Yes</td>\n",
       "      <td>NO</td>\n",
       "    </tr>\n",
       "  </tbody>\n",
       "</table>\n",
       "</div>"
      ],
      "text/plain": [
       "   patient_frequency  patient_nbr  time_in_hospital  num_lab_procedures  \\\n",
       "0                  1      8222157                 1                  41   \n",
       "1                  1     55629189                 3                  59   \n",
       "2                  1     86047875                 2                  11   \n",
       "3                  1     82442376                 2                  44   \n",
       "4                  1     42519267                 1                  51   \n",
       "\n",
       "   num_procedures  num_medications  number_outpatient  number_emergency  \\\n",
       "0               0                1                  0                 0   \n",
       "1               0               18                  0                 0   \n",
       "2               5               13                  2                 0   \n",
       "3               1               16                  0                 0   \n",
       "4               0                8                  0                 0   \n",
       "\n",
       "   number_inpatient  number_diagnoses             race  gender      age  \\\n",
       "0                 0                 1        Caucasian  Female   [0-10)   \n",
       "1                 0                 9        Caucasian  Female  [10-20)   \n",
       "2                 1                 6  AfricanAmerican  Female  [20-30)   \n",
       "3                 0                 7        Caucasian    Male  [30-40)   \n",
       "4                 0                 5        Caucasian    Male  [40-50)   \n",
       "\n",
       "  admission_type_id discharge_disposition_id admission_source_id     diag_1  \\\n",
       "0             Other                    Other            Referral   Diabetes   \n",
       "1         Emergency          Discharged Home      Emergency Room      other   \n",
       "2         Emergency          Discharged Home      Emergency Room      other   \n",
       "3         Emergency          Discharged Home      Emergency Room      other   \n",
       "4         Emergency          Discharged Home      Emergency Room  Neoplasms   \n",
       "\n",
       "      diag_2       diag_3 max_glu_serum A1Cresult metformin repaglinide  \\\n",
       "0        NaN          NaN          None      None        No          No   \n",
       "1   Diabetes        other          None      None        No          No   \n",
       "2   Diabetes        other          None      None        No          No   \n",
       "3   Diabetes  Circulatory          None      None        No          No   \n",
       "4  Neoplasms     Diabetes          None      None        No          No   \n",
       "\n",
       "  nateglinide chlorpropamide glimepiride acetohexamide glipizide glyburide  \\\n",
       "0          No             No          No            No        No        No   \n",
       "1          No             No          No            No        No        No   \n",
       "2          No             No          No            No    Steady        No   \n",
       "3          No             No          No            No        No        No   \n",
       "4          No             No          No            No    Steady        No   \n",
       "\n",
       "  tolbutamide pioglitazone rosiglitazone acarbose miglitol troglitazone  \\\n",
       "0          No           No            No       No       No           No   \n",
       "1          No           No            No       No       No           No   \n",
       "2          No           No            No       No       No           No   \n",
       "3          No           No            No       No       No           No   \n",
       "4          No           No            No       No       No           No   \n",
       "\n",
       "  tolazamide insulin glyburide-metformin glipizide-metformin  \\\n",
       "0         No      No                  No                  No   \n",
       "1         No      Up                  No                  No   \n",
       "2         No      No                  No                  No   \n",
       "3         No      Up                  No                  No   \n",
       "4         No  Steady                  No                  No   \n",
       "\n",
       "  glimepiride-pioglitazone metformin-rosiglitazone metformin-pioglitazone  \\\n",
       "0                       No                      No                     No   \n",
       "1                       No                      No                     No   \n",
       "2                       No                      No                     No   \n",
       "3                       No                      No                     No   \n",
       "4                       No                      No                     No   \n",
       "\n",
       "  change diabetesMed readmitted  \n",
       "0     No          No         NO  \n",
       "1     Ch         Yes        >30  \n",
       "2     No         Yes         NO  \n",
       "3     Ch         Yes         NO  \n",
       "4     Ch         Yes         NO  "
      ]
     },
     "execution_count": 11,
     "metadata": {},
     "output_type": "execute_result"
    }
   ],
   "source": [
    "df_visual_diabetic.head()"
   ]
  },
  {
   "cell_type": "code",
   "execution_count": 12,
   "metadata": {},
   "outputs": [],
   "source": [
    "df_visual_diabetic['patient_frequency_categorized'] = df_visual_diabetic['patient_frequency'].apply(categorize_patient_frequency_func)"
   ]
  },
  {
   "cell_type": "code",
   "execution_count": 13,
   "metadata": {},
   "outputs": [
    {
     "data": {
      "text/html": [
       "<div>\n",
       "<style scoped>\n",
       "    .dataframe tbody tr th:only-of-type {\n",
       "        vertical-align: middle;\n",
       "    }\n",
       "\n",
       "    .dataframe tbody tr th {\n",
       "        vertical-align: top;\n",
       "    }\n",
       "\n",
       "    .dataframe thead th {\n",
       "        text-align: right;\n",
       "    }\n",
       "</style>\n",
       "<table border=\"1\" class=\"dataframe\">\n",
       "  <thead>\n",
       "    <tr style=\"text-align: right;\">\n",
       "      <th></th>\n",
       "      <th>patient_frequency</th>\n",
       "      <th>patient_nbr</th>\n",
       "      <th>time_in_hospital</th>\n",
       "      <th>num_lab_procedures</th>\n",
       "      <th>num_procedures</th>\n",
       "      <th>num_medications</th>\n",
       "      <th>number_outpatient</th>\n",
       "      <th>number_emergency</th>\n",
       "      <th>number_inpatient</th>\n",
       "      <th>number_diagnoses</th>\n",
       "      <th>race</th>\n",
       "      <th>gender</th>\n",
       "      <th>age</th>\n",
       "      <th>admission_type_id</th>\n",
       "      <th>discharge_disposition_id</th>\n",
       "      <th>admission_source_id</th>\n",
       "      <th>diag_1</th>\n",
       "      <th>diag_2</th>\n",
       "      <th>diag_3</th>\n",
       "      <th>max_glu_serum</th>\n",
       "      <th>A1Cresult</th>\n",
       "      <th>metformin</th>\n",
       "      <th>repaglinide</th>\n",
       "      <th>nateglinide</th>\n",
       "      <th>chlorpropamide</th>\n",
       "      <th>glimepiride</th>\n",
       "      <th>acetohexamide</th>\n",
       "      <th>glipizide</th>\n",
       "      <th>glyburide</th>\n",
       "      <th>tolbutamide</th>\n",
       "      <th>pioglitazone</th>\n",
       "      <th>rosiglitazone</th>\n",
       "      <th>acarbose</th>\n",
       "      <th>miglitol</th>\n",
       "      <th>troglitazone</th>\n",
       "      <th>tolazamide</th>\n",
       "      <th>insulin</th>\n",
       "      <th>glyburide-metformin</th>\n",
       "      <th>glipizide-metformin</th>\n",
       "      <th>glimepiride-pioglitazone</th>\n",
       "      <th>metformin-rosiglitazone</th>\n",
       "      <th>metformin-pioglitazone</th>\n",
       "      <th>change</th>\n",
       "      <th>diabetesMed</th>\n",
       "      <th>readmitted</th>\n",
       "      <th>patient_frequency_categorized</th>\n",
       "    </tr>\n",
       "  </thead>\n",
       "  <tbody>\n",
       "    <tr>\n",
       "      <th>0</th>\n",
       "      <td>1</td>\n",
       "      <td>8222157</td>\n",
       "      <td>1</td>\n",
       "      <td>41</td>\n",
       "      <td>0</td>\n",
       "      <td>1</td>\n",
       "      <td>0</td>\n",
       "      <td>0</td>\n",
       "      <td>0</td>\n",
       "      <td>1</td>\n",
       "      <td>Caucasian</td>\n",
       "      <td>Female</td>\n",
       "      <td>[0-10)</td>\n",
       "      <td>Other</td>\n",
       "      <td>Other</td>\n",
       "      <td>Referral</td>\n",
       "      <td>Diabetes</td>\n",
       "      <td>NaN</td>\n",
       "      <td>NaN</td>\n",
       "      <td>None</td>\n",
       "      <td>None</td>\n",
       "      <td>No</td>\n",
       "      <td>No</td>\n",
       "      <td>No</td>\n",
       "      <td>No</td>\n",
       "      <td>No</td>\n",
       "      <td>No</td>\n",
       "      <td>No</td>\n",
       "      <td>No</td>\n",
       "      <td>No</td>\n",
       "      <td>No</td>\n",
       "      <td>No</td>\n",
       "      <td>No</td>\n",
       "      <td>No</td>\n",
       "      <td>No</td>\n",
       "      <td>No</td>\n",
       "      <td>No</td>\n",
       "      <td>No</td>\n",
       "      <td>No</td>\n",
       "      <td>No</td>\n",
       "      <td>No</td>\n",
       "      <td>No</td>\n",
       "      <td>No</td>\n",
       "      <td>No</td>\n",
       "      <td>NO</td>\n",
       "      <td>1-time</td>\n",
       "    </tr>\n",
       "    <tr>\n",
       "      <th>1</th>\n",
       "      <td>1</td>\n",
       "      <td>55629189</td>\n",
       "      <td>3</td>\n",
       "      <td>59</td>\n",
       "      <td>0</td>\n",
       "      <td>18</td>\n",
       "      <td>0</td>\n",
       "      <td>0</td>\n",
       "      <td>0</td>\n",
       "      <td>9</td>\n",
       "      <td>Caucasian</td>\n",
       "      <td>Female</td>\n",
       "      <td>[10-20)</td>\n",
       "      <td>Emergency</td>\n",
       "      <td>Discharged Home</td>\n",
       "      <td>Emergency Room</td>\n",
       "      <td>other</td>\n",
       "      <td>Diabetes</td>\n",
       "      <td>other</td>\n",
       "      <td>None</td>\n",
       "      <td>None</td>\n",
       "      <td>No</td>\n",
       "      <td>No</td>\n",
       "      <td>No</td>\n",
       "      <td>No</td>\n",
       "      <td>No</td>\n",
       "      <td>No</td>\n",
       "      <td>No</td>\n",
       "      <td>No</td>\n",
       "      <td>No</td>\n",
       "      <td>No</td>\n",
       "      <td>No</td>\n",
       "      <td>No</td>\n",
       "      <td>No</td>\n",
       "      <td>No</td>\n",
       "      <td>No</td>\n",
       "      <td>Up</td>\n",
       "      <td>No</td>\n",
       "      <td>No</td>\n",
       "      <td>No</td>\n",
       "      <td>No</td>\n",
       "      <td>No</td>\n",
       "      <td>Ch</td>\n",
       "      <td>Yes</td>\n",
       "      <td>&gt;30</td>\n",
       "      <td>1-time</td>\n",
       "    </tr>\n",
       "    <tr>\n",
       "      <th>2</th>\n",
       "      <td>1</td>\n",
       "      <td>86047875</td>\n",
       "      <td>2</td>\n",
       "      <td>11</td>\n",
       "      <td>5</td>\n",
       "      <td>13</td>\n",
       "      <td>2</td>\n",
       "      <td>0</td>\n",
       "      <td>1</td>\n",
       "      <td>6</td>\n",
       "      <td>AfricanAmerican</td>\n",
       "      <td>Female</td>\n",
       "      <td>[20-30)</td>\n",
       "      <td>Emergency</td>\n",
       "      <td>Discharged Home</td>\n",
       "      <td>Emergency Room</td>\n",
       "      <td>other</td>\n",
       "      <td>Diabetes</td>\n",
       "      <td>other</td>\n",
       "      <td>None</td>\n",
       "      <td>None</td>\n",
       "      <td>No</td>\n",
       "      <td>No</td>\n",
       "      <td>No</td>\n",
       "      <td>No</td>\n",
       "      <td>No</td>\n",
       "      <td>No</td>\n",
       "      <td>Steady</td>\n",
       "      <td>No</td>\n",
       "      <td>No</td>\n",
       "      <td>No</td>\n",
       "      <td>No</td>\n",
       "      <td>No</td>\n",
       "      <td>No</td>\n",
       "      <td>No</td>\n",
       "      <td>No</td>\n",
       "      <td>No</td>\n",
       "      <td>No</td>\n",
       "      <td>No</td>\n",
       "      <td>No</td>\n",
       "      <td>No</td>\n",
       "      <td>No</td>\n",
       "      <td>No</td>\n",
       "      <td>Yes</td>\n",
       "      <td>NO</td>\n",
       "      <td>1-time</td>\n",
       "    </tr>\n",
       "    <tr>\n",
       "      <th>3</th>\n",
       "      <td>1</td>\n",
       "      <td>82442376</td>\n",
       "      <td>2</td>\n",
       "      <td>44</td>\n",
       "      <td>1</td>\n",
       "      <td>16</td>\n",
       "      <td>0</td>\n",
       "      <td>0</td>\n",
       "      <td>0</td>\n",
       "      <td>7</td>\n",
       "      <td>Caucasian</td>\n",
       "      <td>Male</td>\n",
       "      <td>[30-40)</td>\n",
       "      <td>Emergency</td>\n",
       "      <td>Discharged Home</td>\n",
       "      <td>Emergency Room</td>\n",
       "      <td>other</td>\n",
       "      <td>Diabetes</td>\n",
       "      <td>Circulatory</td>\n",
       "      <td>None</td>\n",
       "      <td>None</td>\n",
       "      <td>No</td>\n",
       "      <td>No</td>\n",
       "      <td>No</td>\n",
       "      <td>No</td>\n",
       "      <td>No</td>\n",
       "      <td>No</td>\n",
       "      <td>No</td>\n",
       "      <td>No</td>\n",
       "      <td>No</td>\n",
       "      <td>No</td>\n",
       "      <td>No</td>\n",
       "      <td>No</td>\n",
       "      <td>No</td>\n",
       "      <td>No</td>\n",
       "      <td>No</td>\n",
       "      <td>Up</td>\n",
       "      <td>No</td>\n",
       "      <td>No</td>\n",
       "      <td>No</td>\n",
       "      <td>No</td>\n",
       "      <td>No</td>\n",
       "      <td>Ch</td>\n",
       "      <td>Yes</td>\n",
       "      <td>NO</td>\n",
       "      <td>1-time</td>\n",
       "    </tr>\n",
       "    <tr>\n",
       "      <th>4</th>\n",
       "      <td>1</td>\n",
       "      <td>42519267</td>\n",
       "      <td>1</td>\n",
       "      <td>51</td>\n",
       "      <td>0</td>\n",
       "      <td>8</td>\n",
       "      <td>0</td>\n",
       "      <td>0</td>\n",
       "      <td>0</td>\n",
       "      <td>5</td>\n",
       "      <td>Caucasian</td>\n",
       "      <td>Male</td>\n",
       "      <td>[40-50)</td>\n",
       "      <td>Emergency</td>\n",
       "      <td>Discharged Home</td>\n",
       "      <td>Emergency Room</td>\n",
       "      <td>Neoplasms</td>\n",
       "      <td>Neoplasms</td>\n",
       "      <td>Diabetes</td>\n",
       "      <td>None</td>\n",
       "      <td>None</td>\n",
       "      <td>No</td>\n",
       "      <td>No</td>\n",
       "      <td>No</td>\n",
       "      <td>No</td>\n",
       "      <td>No</td>\n",
       "      <td>No</td>\n",
       "      <td>Steady</td>\n",
       "      <td>No</td>\n",
       "      <td>No</td>\n",
       "      <td>No</td>\n",
       "      <td>No</td>\n",
       "      <td>No</td>\n",
       "      <td>No</td>\n",
       "      <td>No</td>\n",
       "      <td>No</td>\n",
       "      <td>Steady</td>\n",
       "      <td>No</td>\n",
       "      <td>No</td>\n",
       "      <td>No</td>\n",
       "      <td>No</td>\n",
       "      <td>No</td>\n",
       "      <td>Ch</td>\n",
       "      <td>Yes</td>\n",
       "      <td>NO</td>\n",
       "      <td>1-time</td>\n",
       "    </tr>\n",
       "  </tbody>\n",
       "</table>\n",
       "</div>"
      ],
      "text/plain": [
       "   patient_frequency  patient_nbr  time_in_hospital  num_lab_procedures  \\\n",
       "0                  1      8222157                 1                  41   \n",
       "1                  1     55629189                 3                  59   \n",
       "2                  1     86047875                 2                  11   \n",
       "3                  1     82442376                 2                  44   \n",
       "4                  1     42519267                 1                  51   \n",
       "\n",
       "   num_procedures  num_medications  number_outpatient  number_emergency  \\\n",
       "0               0                1                  0                 0   \n",
       "1               0               18                  0                 0   \n",
       "2               5               13                  2                 0   \n",
       "3               1               16                  0                 0   \n",
       "4               0                8                  0                 0   \n",
       "\n",
       "   number_inpatient  number_diagnoses             race  gender      age  \\\n",
       "0                 0                 1        Caucasian  Female   [0-10)   \n",
       "1                 0                 9        Caucasian  Female  [10-20)   \n",
       "2                 1                 6  AfricanAmerican  Female  [20-30)   \n",
       "3                 0                 7        Caucasian    Male  [30-40)   \n",
       "4                 0                 5        Caucasian    Male  [40-50)   \n",
       "\n",
       "  admission_type_id discharge_disposition_id admission_source_id     diag_1  \\\n",
       "0             Other                    Other            Referral   Diabetes   \n",
       "1         Emergency          Discharged Home      Emergency Room      other   \n",
       "2         Emergency          Discharged Home      Emergency Room      other   \n",
       "3         Emergency          Discharged Home      Emergency Room      other   \n",
       "4         Emergency          Discharged Home      Emergency Room  Neoplasms   \n",
       "\n",
       "      diag_2       diag_3 max_glu_serum A1Cresult metformin repaglinide  \\\n",
       "0        NaN          NaN          None      None        No          No   \n",
       "1   Diabetes        other          None      None        No          No   \n",
       "2   Diabetes        other          None      None        No          No   \n",
       "3   Diabetes  Circulatory          None      None        No          No   \n",
       "4  Neoplasms     Diabetes          None      None        No          No   \n",
       "\n",
       "  nateglinide chlorpropamide glimepiride acetohexamide glipizide glyburide  \\\n",
       "0          No             No          No            No        No        No   \n",
       "1          No             No          No            No        No        No   \n",
       "2          No             No          No            No    Steady        No   \n",
       "3          No             No          No            No        No        No   \n",
       "4          No             No          No            No    Steady        No   \n",
       "\n",
       "  tolbutamide pioglitazone rosiglitazone acarbose miglitol troglitazone  \\\n",
       "0          No           No            No       No       No           No   \n",
       "1          No           No            No       No       No           No   \n",
       "2          No           No            No       No       No           No   \n",
       "3          No           No            No       No       No           No   \n",
       "4          No           No            No       No       No           No   \n",
       "\n",
       "  tolazamide insulin glyburide-metformin glipizide-metformin  \\\n",
       "0         No      No                  No                  No   \n",
       "1         No      Up                  No                  No   \n",
       "2         No      No                  No                  No   \n",
       "3         No      Up                  No                  No   \n",
       "4         No  Steady                  No                  No   \n",
       "\n",
       "  glimepiride-pioglitazone metformin-rosiglitazone metformin-pioglitazone  \\\n",
       "0                       No                      No                     No   \n",
       "1                       No                      No                     No   \n",
       "2                       No                      No                     No   \n",
       "3                       No                      No                     No   \n",
       "4                       No                      No                     No   \n",
       "\n",
       "  change diabetesMed readmitted patient_frequency_categorized  \n",
       "0     No          No         NO                        1-time  \n",
       "1     Ch         Yes        >30                        1-time  \n",
       "2     No         Yes         NO                        1-time  \n",
       "3     Ch         Yes         NO                        1-time  \n",
       "4     Ch         Yes         NO                        1-time  "
      ]
     },
     "execution_count": 13,
     "metadata": {},
     "output_type": "execute_result"
    }
   ],
   "source": [
    "df_visual_diabetic.head()"
   ]
  },
  {
   "cell_type": "code",
   "execution_count": 14,
   "metadata": {},
   "outputs": [
    {
     "data": {
      "text/plain": [
       "(37990, 46)"
      ]
     },
     "execution_count": 14,
     "metadata": {},
     "output_type": "execute_result"
    }
   ],
   "source": [
    "df_visual_diabetic.shape"
   ]
  },
  {
   "cell_type": "code",
   "execution_count": 15,
   "metadata": {},
   "outputs": [
    {
     "data": {
      "text/plain": [
       "NO     0.547197\n",
       ">30    0.343327\n",
       "<30    0.109476\n",
       "Name: readmitted, dtype: float64"
      ]
     },
     "execution_count": 15,
     "metadata": {},
     "output_type": "execute_result"
    }
   ],
   "source": [
    "df_visual_diabetic['readmitted'].value_counts()/len(df_visual_diabetic)"
   ]
  },
  {
   "cell_type": "code",
   "execution_count": 16,
   "metadata": {},
   "outputs": [],
   "source": [
    "df_visual_diabetic.to_csv('Diabetic_patients.csv')"
   ]
  },
  {
   "cell_type": "markdown",
   "metadata": {},
   "source": [
    "### LIST OF ALL CATEGORICAL VARIABLES IN THE DATASET SEGREGATED AS DIFFERENT ASPECTS..."
   ]
  },
  {
   "cell_type": "code",
   "execution_count": 17,
   "metadata": {},
   "outputs": [],
   "source": [
    "drugs_list = ['metformin','repaglinide', 'nateglinide', 'chlorpropamide', 'glimepiride','acetohexamide', 'glipizide',\n",
    "              'glyburide', 'tolbutamide','pioglitazone', 'rosiglitazone', 'acarbose', 'miglitol', 'troglitazone',\n",
    "              'tolazamide', 'insulin', 'glyburide-metformin', 'glipizide-metformin','glimepiride-pioglitazone',\n",
    "              'metformin-rosiglitazone','metformin-pioglitazone']\n",
    "patient_formalities_list = ['admission_type_id','discharge_disposition_id','admission_source_id','patient_frequency_categorized']\n",
    "patient_demographics_list = ['gender','age','race']\n",
    "diagnosis_list = ['diag_1','diag_2','diag_3']\n",
    "primary_tests_list = ['A1Cresult','max_glu_serum']\n",
    "medication_changes_list = ['diabetesMed','change']"
   ]
  },
  {
   "cell_type": "markdown",
   "metadata": {},
   "source": [
    "### LIST OF ALL NUMERICAL VARIABLES IN THE DATASET SEGREGATED AS DIFFERENT ASPECTS..."
   ]
  },
  {
   "cell_type": "code",
   "execution_count": 18,
   "metadata": {},
   "outputs": [],
   "source": [
    "number_of_visits = ['patient_frequency','number_outpatient','number_emergency','number_inpatient']\n",
    "number_of_hospital_formalities = ['time_in_hospital','num_lab_procedures','num_procedures','num_medications','number_diagnoses']"
   ]
  },
  {
   "cell_type": "markdown",
   "metadata": {},
   "source": [
    "## NEED NOT EXECUTE"
   ]
  },
  {
   "cell_type": "markdown",
   "metadata": {},
   "source": [
    "# VISUAL ANALYSIS"
   ]
  },
  {
   "cell_type": "markdown",
   "metadata": {},
   "source": [
    "### DISTRIBUTION OF VARIABLES"
   ]
  },
  {
   "cell_type": "markdown",
   "metadata": {},
   "source": [
    "### DISTRIBUTION OF NUMERICAL VARIABLES : UNIVARIATE ANALYSIS"
   ]
  },
  {
   "cell_type": "code",
   "execution_count": null,
   "metadata": {},
   "outputs": [],
   "source": [
    "def box_labels(ax, df,col1,col2):\n",
    "    medians = df.groupby([col1])[col2].median()\n",
    "    vertical_offset = df[col2].median() * 0.05 # offset from median for display\n",
    "\n",
    "    for xtick in ax.get_xticks():\n",
    "        ax.text(xtick,medians[xtick] + vertical_offset,medians[xtick], \n",
    "                horizontalalignment='center',size='x-small',color='w',weight='semibold')"
   ]
  },
  {
   "cell_type": "code",
   "execution_count": null,
   "metadata": {},
   "outputs": [],
   "source": [
    "def labels(ax):\n",
    "    for bar in ax.patches: \n",
    "        ax.annotate('%{:.1f}\\n{:.0f}'.format(100*bar.get_height()/len(df_visual_diabetic),bar.get_height()), (bar.get_x() + bar.get_width() / 2,  \n",
    "                        bar.get_height()-400), ha='center', va='center', \n",
    "                       size=14, xytext=(0, 8), \n",
    "                       textcoords='offset points') "
   ]
  },
  {
   "cell_type": "code",
   "execution_count": null,
   "metadata": {},
   "outputs": [],
   "source": [
    "def labels_catnum(ax, df=df_visual_diabetic):\n",
    "    for p in ax.patches:\n",
    "            ax.annotate('%{:.1f}\\n{:.0f}'.format(100*p.get_height()/len(df),p.get_height()), \n",
    "                        (p.get_x()+0.2, p.get_height()-27),size=16)\n"
   ]
  },
  {
   "cell_type": "code",
   "execution_count": null,
   "metadata": {
    "scrolled": true
   },
   "outputs": [],
   "source": [
    "plt.figure(figsize=(25,20))\n",
    "for i,col in enumerate(number_of_visits):\n",
    "    plt.subplot(4,1,i+1)\n",
    "    sns.distplot(df_visual_diabetic[col])"
   ]
  },
  {
   "cell_type": "code",
   "execution_count": null,
   "metadata": {},
   "outputs": [],
   "source": [
    "plt.figure(figsize=(25,15))\n",
    "for i,col in enumerate(number_of_hospital_formalities):\n",
    "    plt.subplot(2,3,i+1)\n",
    "    sns.distplot(df_visual_diabetic[col])"
   ]
  },
  {
   "cell_type": "code",
   "execution_count": null,
   "metadata": {
    "scrolled": true
   },
   "outputs": [],
   "source": [
    "plt.figure(figsize=(25,20))\n",
    "for i,col in enumerate(number_of_visits):\n",
    "    plt.subplot(2,2,i+1)\n",
    "    sns.boxplot(df_visual_diabetic[col])"
   ]
  },
  {
   "cell_type": "code",
   "execution_count": null,
   "metadata": {},
   "outputs": [],
   "source": [
    "plt.figure(figsize=(25,15))\n",
    "for i,col in enumerate(number_of_hospital_formalities):\n",
    "    plt.subplot(2,3,i+1)\n",
    "    sns.boxplot(df_visual_diabetic[col])"
   ]
  },
  {
   "cell_type": "code",
   "execution_count": null,
   "metadata": {},
   "outputs": [],
   "source": [
    "skew_of_features = pd.DataFrame([df_visual_diabetic[col].skew() for col in [df_visual_diabetic.select_dtypes(include=np.number).columns]],index=['SKEW']).T"
   ]
  },
  {
   "cell_type": "code",
   "execution_count": null,
   "metadata": {},
   "outputs": [],
   "source": [
    "skew_of_features.sort_values(by='SKEW',ascending=False)"
   ]
  },
  {
   "cell_type": "code",
   "execution_count": null,
   "metadata": {},
   "outputs": [],
   "source": [
    "# The columns that are highly skewed are number_outpatients and number_emergencys..  \n",
    "# As we can see from the plots and the skew we can understand the most of the numerical columns are right skewed.."
   ]
  },
  {
   "cell_type": "code",
   "execution_count": null,
   "metadata": {},
   "outputs": [],
   "source": [
    "# Instead of transforming the variables to bring them to a normal distribution \n",
    "# and winzorizing to eliminate outliers to make the model perform better we keep\n",
    "# the data as it is and analise how the model performs..\n",
    "# Since these datapoints may have a significant influence on the target variable which has to be learnt by the model.."
   ]
  },
  {
   "cell_type": "code",
   "execution_count": null,
   "metadata": {},
   "outputs": [],
   "source": []
  },
  {
   "cell_type": "code",
   "execution_count": null,
   "metadata": {},
   "outputs": [],
   "source": [
    "plt.figure(figsize=(15,7))\n",
    "sns.countplot(x='num_medications', data=df_visual_diabetic)\n",
    "mean, median = np.mean(df_visual_diabetic.num_medications), np.median(df_visual_diabetic.num_medications)\n",
    "plt.axvline(mean-df_visual_diabetic.num_medications.min(), color='blue', label=f'mean:{round(mean,2)}')\n",
    "plt.axvline(median-df_visual_diabetic.num_medications.min(), color='black', label=f'median:{round(median,2)}')\n",
    "plt.title('Number of medications given During Visit')\n",
    "plt.xticks(rotation=90)\n",
    "plt.legend()\n",
    "plt.show()"
   ]
  },
  {
   "cell_type": "code",
   "execution_count": null,
   "metadata": {},
   "outputs": [],
   "source": [
    "# an average of 16-17 distinct drugs has been administered per visit for each patient.\n",
    "# do this wrt readmission in bivariate analysis.."
   ]
  },
  {
   "cell_type": "code",
   "execution_count": null,
   "metadata": {
    "scrolled": true
   },
   "outputs": [],
   "source": [
    "plt.figure(figsize=(26,7))\n",
    "sns.countplot(x='num_lab_procedures', data=df_visual_diabetic)\n",
    "mean, median = np.mean(df_visual_diabetic.num_lab_procedures), np.median(df_visual_diabetic.num_lab_procedures)\n",
    "plt.axvline(mean-df_visual_diabetic.num_lab_procedures.min(), color='blue', label=f'mean:{round(mean,2)}')\n",
    "plt.axvline(median-df_visual_diabetic.num_lab_procedures.min(), color='black', label=f'median:{round(median,2)}')\n",
    "plt.title('Number of Lab Procedures Performed During Visit')\n",
    "plt.xticks(rotation=90)\n",
    "plt.legend()\n",
    "plt.show()"
   ]
  },
  {
   "cell_type": "code",
   "execution_count": null,
   "metadata": {},
   "outputs": [],
   "source": [
    "# most of the time at an average 44 tests are taken on a patient, with the exception of 1...."
   ]
  },
  {
   "cell_type": "code",
   "execution_count": null,
   "metadata": {},
   "outputs": [],
   "source": []
  },
  {
   "cell_type": "code",
   "execution_count": null,
   "metadata": {},
   "outputs": [],
   "source": [
    "plt.figure(figsize=(26,7))\n",
    "sns.countplot(x='patient_frequency', data=df_visual_diabetic)\n",
    "mean, median = np.mean(df_visual_diabetic.patient_frequency), np.median(df_visual_diabetic.patient_frequency)\n",
    "plt.axvline(mean-df_visual_diabetic.patient_frequency.min(), color='blue', label=f'mean:{round(mean,2)}')\n",
    "plt.axvline(median-df_visual_diabetic.patient_frequency.min(), color='black', label=f'median:{round(median,2)}')\n",
    "plt.title('Number of Visits of patients to the hospital')\n",
    "plt.xticks(rotation=90)\n",
    "plt.legend()\n",
    "plt.show()"
   ]
  },
  {
   "cell_type": "code",
   "execution_count": null,
   "metadata": {},
   "outputs": [],
   "source": []
  },
  {
   "cell_type": "code",
   "execution_count": null,
   "metadata": {},
   "outputs": [],
   "source": []
  },
  {
   "cell_type": "code",
   "execution_count": null,
   "metadata": {},
   "outputs": [],
   "source": [
    "plt.figure(figsize=(15,5))\n",
    "sns.countplot(x='time_in_hospital', palette='muted', data=df_visual_diabetic)\n",
    "mean, median = np.mean(df_visual_diabetic['time_in_hospital']), np.median(df_visual_diabetic['time_in_hospital'])\n",
    "plt.axvline(mean-df_visual_diabetic.time_in_hospital.min(), color='blue', label=f'mean:{round(mean,2)}')\n",
    "plt.axvline(median-df_visual_diabetic.time_in_hospital.min(), color='red', label=f'median:{round(median,2)}')\n",
    "plt.title('Duration of Hospital Visit in Days')\n",
    "plt.legend()\n",
    "plt.show()"
   ]
  },
  {
   "cell_type": "code",
   "execution_count": null,
   "metadata": {},
   "outputs": [],
   "source": [
    "# On an average patients spend 4 and half days in the hospital.."
   ]
  },
  {
   "cell_type": "code",
   "execution_count": null,
   "metadata": {},
   "outputs": [],
   "source": [
    "plt.figure(figsize=(15,5))\n",
    "sns.countplot(x='num_procedures', palette='seismic', data=df_visual_diabetic)\n",
    "mean, median = np.mean(df_visual_diabetic.num_procedures), np.median(df_visual_diabetic.num_procedures)\n",
    "plt.axvline(mean, color='blue', label=f'mean:{round(mean,2)}')\n",
    "plt.axvline(median, color='black', label=f'median:{round(median,2)}')\n",
    "plt.title('Number of Procedures Performed (Except Lab)');"
   ]
  },
  {
   "cell_type": "code",
   "execution_count": null,
   "metadata": {},
   "outputs": [],
   "source": [
    "# For many of the patients there were no procedures performed.\n",
    "# Number of manual checkups (procedures) performed by the doctor before lab procedures is usually 1 per patient.. "
   ]
  },
  {
   "cell_type": "code",
   "execution_count": null,
   "metadata": {},
   "outputs": [],
   "source": [
    "# number of diagnoses and readmit rate\n",
    "plt.figure(figsize=(15,5))\n",
    "ax = sns.countplot(x='number_diagnoses', palette='Accent', data=df_visual_diabetic)\n",
    "plt.title('Number of Diagnoses')\n",
    "plt.show()"
   ]
  },
  {
   "cell_type": "code",
   "execution_count": null,
   "metadata": {},
   "outputs": [],
   "source": [
    "# For many of the patients 9 lab diagnoses are performed..."
   ]
  },
  {
   "cell_type": "markdown",
   "metadata": {},
   "source": [
    "### DISTRIBUTION OF CATEGORICAL VARIABLES"
   ]
  },
  {
   "cell_type": "code",
   "execution_count": null,
   "metadata": {},
   "outputs": [],
   "source": [
    "df_visual_diabetic['readmitted'].value_counts().plot(kind='bar');"
   ]
  },
  {
   "cell_type": "code",
   "execution_count": null,
   "metadata": {},
   "outputs": [],
   "source": []
  },
  {
   "cell_type": "code",
   "execution_count": null,
   "metadata": {},
   "outputs": [],
   "source": []
  },
  {
   "cell_type": "code",
   "execution_count": null,
   "metadata": {},
   "outputs": [],
   "source": [
    "plt.figure(figsize=(20,25))\n",
    "for i,col in enumerate(drugs_list):\n",
    "    plt.subplot(7,3,i+1)\n",
    "    sns.countplot(x=df_visual_diabetic[col])"
   ]
  },
  {
   "cell_type": "code",
   "execution_count": null,
   "metadata": {},
   "outputs": [],
   "source": [
    "# Many drugs in the dataset are not administered to patients..Only insulin seems to be administered to majority\n",
    "# of the patients..\n",
    "# From the domain understanding many of the drugs administered above are for type 2 diabetic patients..\n",
    "# We will later perform statistical tests on these features to understand their significance wrt the target column.."
   ]
  },
  {
   "cell_type": "code",
   "execution_count": null,
   "metadata": {},
   "outputs": [],
   "source": [
    "plt.figure(figsize=(26, 10))\n",
    "for i,col in enumerate(patient_formalities_list):\n",
    "    plt.subplot(2,2,i+1)\n",
    "    plt.xticks(rotation=90,fontsize=15)\n",
    "    plt.xlabel(col,fontsize=20)\n",
    "    sns.countplot(x=df_visual_diabetic[col])"
   ]
  },
  {
   "cell_type": "code",
   "execution_count": null,
   "metadata": {},
   "outputs": [],
   "source": [
    "# Admission_type_id gives the information about why a patient was admitted..Many of them seem to have got admitted\n",
    "# in emergency and urgent conditions..around 74000 patients..Around 20000 patients are admitted with prior formalities verified.\n",
    "# Admission source id talks about how the patient got admitted..It may be because of someone's referral or transfer\n",
    "# from other hospital.. It is dominated by Emergency room\n",
    "# Discharge DispositionId gives the detail whether the patient was discharged to home after treatment or was transferred to\n",
    "# other hospitals for various reasons..A considerably good number of patients were dischrged back home..Around 20000 patients\n",
    "# were traansferred to other hospitals or care centres..\n",
    "# left AMA : left against medical advice : Patient refuses to stay for continued care.."
   ]
  },
  {
   "cell_type": "code",
   "execution_count": null,
   "metadata": {},
   "outputs": [],
   "source": [
    "plt.figure(figsize=(26, 10))\n",
    "for i,col in enumerate(patient_demographics_list):\n",
    "    plt.subplot(1,3,i+1)\n",
    "    plt.xticks(rotation=90,fontsize=15)\n",
    "    plt.xlabel(col,fontsize=20)\n",
    "    sns.countplot(x=df_visual_diabetic[col])"
   ]
  },
  {
   "cell_type": "code",
   "execution_count": null,
   "metadata": {},
   "outputs": [],
   "source": [
    "# As we can see the gender is balanced, oddly there are more females compared to that of males\n",
    "# Majority of the patients are senior citizends..\n",
    "# Caucasians are high.."
   ]
  },
  {
   "cell_type": "code",
   "execution_count": null,
   "metadata": {},
   "outputs": [],
   "source": []
  },
  {
   "cell_type": "code",
   "execution_count": null,
   "metadata": {},
   "outputs": [],
   "source": [
    "plt.figure(figsize=(26, 10))\n",
    "for i,col in enumerate(diagnosis_list):\n",
    "    plt.subplot(1,3,i+1)\n",
    "    plt.xticks(rotation=90,fontsize=15)\n",
    "    plt.xlabel(col,fontsize=20)\n",
    "    sns.countplot(x=df_visual_diabetic[col])"
   ]
  },
  {
   "cell_type": "code",
   "execution_count": null,
   "metadata": {},
   "outputs": [],
   "source": [
    "#-------> Many patients have circulatory disorders..."
   ]
  },
  {
   "cell_type": "code",
   "execution_count": null,
   "metadata": {},
   "outputs": [],
   "source": []
  },
  {
   "cell_type": "code",
   "execution_count": null,
   "metadata": {},
   "outputs": [],
   "source": [
    "plt.figure(figsize=(15, 7))\n",
    "for i,col in enumerate(primary_tests_list):\n",
    "    plt.subplot(1,3,i+1)\n",
    "    plt.xticks(rotation=90,fontsize=15)\n",
    "    plt.xlabel(col,fontsize=20)\n",
    "    sns.countplot(x=df_visual_diabetic[col])"
   ]
  },
  {
   "cell_type": "code",
   "execution_count": null,
   "metadata": {},
   "outputs": [],
   "source": [
    "# The details of the test results of A1C and maximum glucose serum is not specified for Most of the patients... "
   ]
  },
  {
   "cell_type": "code",
   "execution_count": null,
   "metadata": {},
   "outputs": [],
   "source": [
    "plt.figure(figsize=(15, 7))\n",
    "for i,col in enumerate(medication_changes_list):\n",
    "    plt.subplot(1,3,i+1)\n",
    "    plt.xticks(rotation=90,fontsize=15)\n",
    "    plt.xlabel(col,fontsize=20)\n",
    "    sns.countplot(x=df_visual_diabetic[col])"
   ]
  },
  {
   "cell_type": "code",
   "execution_count": null,
   "metadata": {},
   "outputs": [],
   "source": [
    "# For around 23000 patients no diabetes medications were given..\n",
    "# For around 46000 patients medications was changed.."
   ]
  },
  {
   "cell_type": "code",
   "execution_count": null,
   "metadata": {},
   "outputs": [],
   "source": []
  },
  {
   "cell_type": "markdown",
   "metadata": {},
   "source": [
    "### BIVARIATE ANALYSIS (NUMERICAL VS NUMERICAL)"
   ]
  },
  {
   "cell_type": "markdown",
   "metadata": {},
   "source": [
    "### CORRELATION AMONG NUMERICAL VARIABLES"
   ]
  },
  {
   "cell_type": "code",
   "execution_count": null,
   "metadata": {},
   "outputs": [],
   "source": [
    "plt.figure(figsize=(25,15))\n",
    "sns.heatmap(df_visual_diabetic.corr(),annot=True);"
   ]
  },
  {
   "cell_type": "code",
   "execution_count": null,
   "metadata": {},
   "outputs": [],
   "source": [
    "# As we can see from the heatmap there is no heavy multicollinearity among the numerical variables in the data.."
   ]
  },
  {
   "cell_type": "code",
   "execution_count": null,
   "metadata": {},
   "outputs": [],
   "source": [
    "# We analyse the relation between numerical columns that have high correlation compared to the rest.."
   ]
  },
  {
   "cell_type": "code",
   "execution_count": null,
   "metadata": {},
   "outputs": [],
   "source": [
    "plt.figure(figsize=(15,10))\n",
    "ax = sns.boxplot(x='time_in_hospital', y='num_lab_procedures', data=df_visual_diabetic.sort_values('time_in_hospital'))\n",
    "# box_labels(ax, df.sort_values('time_in_hospital'),'time_in_hospital','num_lab_procedures') \n",
    "plt.title('Lab Procedures Based on Length of Hospital Visit')\n",
    "plt.show()"
   ]
  },
  {
   "cell_type": "code",
   "execution_count": null,
   "metadata": {},
   "outputs": [],
   "source": [
    "# There is an increasing trend between time spent in the hospital and number of lab tests completed.\n",
    "# This makes sense since patients with longer stays had more tests completed to properly diagnose their conditions."
   ]
  },
  {
   "cell_type": "code",
   "execution_count": null,
   "metadata": {},
   "outputs": [],
   "source": [
    "plt.figure(figsize=(15,10))\n",
    "ax = sns.boxplot(x='time_in_hospital', y='num_medications', data=df_visual_diabetic)\n",
    "plt.title('Medications Administered Based on Length of Hospital Visit')\n",
    "plt.show()"
   ]
  },
  {
   "cell_type": "code",
   "execution_count": null,
   "metadata": {},
   "outputs": [],
   "source": [
    "# Patients who spend more time in the hospital receive more medications.."
   ]
  },
  {
   "cell_type": "code",
   "execution_count": null,
   "metadata": {},
   "outputs": [],
   "source": [
    "plt.figure(figsize=(15,10))\n",
    "ax = sns.boxplot(x='patient_frequency', y='number_inpatient', data=df_visual_diabetic)\n",
    "plt.title('patient_frequeny vs number_inpatient')\n",
    "plt.show()"
   ]
  },
  {
   "cell_type": "code",
   "execution_count": null,
   "metadata": {},
   "outputs": [],
   "source": []
  },
  {
   "cell_type": "markdown",
   "metadata": {},
   "source": [
    "### NUMERICAL FEATURES VS TARGET"
   ]
  },
  {
   "cell_type": "code",
   "execution_count": null,
   "metadata": {},
   "outputs": [],
   "source": [
    "plt.figure(figsize=(26,20))\n",
    "for i,col in enumerate(number_of_visits):\n",
    "    plt.subplot(2,2,i+1)\n",
    "    plt.ylabel(col,fontsize=20)\n",
    "    plt.xlabel(col,fontsize=20)\n",
    "    plt.xticks(fontsize=20)\n",
    "    sns.boxplot(x=df_visual_diabetic['readmitted'],y=df_visual_diabetic[col])"
   ]
  },
  {
   "cell_type": "code",
   "execution_count": null,
   "metadata": {},
   "outputs": [],
   "source": [
    "# A good number of people are visiting inpatients who were re admitted within 30 days\n",
    "# For majority of the inpatients there were no visitors in the previous year..\n",
    "# A maximum of 21 visitors were there for one particular patient\n",
    "# usually it is limited to 3 or less than 3 for majority of the patients\n",
    "#----------> Number_inpatient vs diag..vs number of days"
   ]
  },
  {
   "cell_type": "code",
   "execution_count": null,
   "metadata": {},
   "outputs": [],
   "source": [
    "plt.figure(figsize=(26,16))\n",
    "for i,col in enumerate(number_of_hospital_formalities):\n",
    "    plt.subplot(2,3,i+1)\n",
    "    plt.ylabel(col,fontsize=20)\n",
    "    plt.xlabel(col,fontsize=20)\n",
    "    plt.xticks(fontsize=20)\n",
    "    sns.boxplot(x=df_visual_diabetic['readmitted'],y=df_visual_diabetic[col],palette='brg')"
   ]
  },
  {
   "cell_type": "code",
   "execution_count": null,
   "metadata": {},
   "outputs": [],
   "source": [
    "# From the above boxplots we get to know that certain numerical features do not have a significant impact on the target\n",
    "# such as time_in_hospital, number_of_lab_procedures,number_procedures,number_of_medications and number_of_diagnoses"
   ]
  },
  {
   "cell_type": "code",
   "execution_count": null,
   "metadata": {},
   "outputs": [],
   "source": []
  },
  {
   "cell_type": "markdown",
   "metadata": {},
   "source": [
    "### CATEGORICAL FEATURES VS TARGET"
   ]
  },
  {
   "cell_type": "code",
   "execution_count": null,
   "metadata": {},
   "outputs": [],
   "source": [
    "plt.figure(figsize=(26,10))\n",
    "count =0\n",
    "for i in patient_demographics_list:\n",
    "    plt.subplot(1,3,count+1)\n",
    "    plt.xticks(rotation=90,fontsize=15)\n",
    "    plt.xlabel(i,fontsize=20)\n",
    "    sns.countplot(df_visual_diabetic[i], hue=df_visual_diabetic['readmitted'], palette='nipy_spectral');\n",
    "    count = count+1"
   ]
  },
  {
   "cell_type": "code",
   "execution_count": null,
   "metadata": {},
   "outputs": [],
   "source": []
  },
  {
   "cell_type": "code",
   "execution_count": null,
   "metadata": {},
   "outputs": [],
   "source": []
  },
  {
   "cell_type": "code",
   "execution_count": null,
   "metadata": {},
   "outputs": [],
   "source": [
    "plt.figure(figsize=(26,20))\n",
    "count =0\n",
    "for i in patient_formalities_list:\n",
    "    plt.subplot(2,2,count+1)\n",
    "    plt.xticks(rotation=90,fontsize=15)\n",
    "    plt.xlabel(i,fontsize=20)\n",
    "    sns.countplot(df_visual_diabetic[i], hue=df_visual_diabetic['readmitted'], palette='Set1');\n",
    "    count = count+1"
   ]
  },
  {
   "cell_type": "code",
   "execution_count": null,
   "metadata": {},
   "outputs": [],
   "source": []
  },
  {
   "cell_type": "code",
   "execution_count": null,
   "metadata": {},
   "outputs": [],
   "source": []
  },
  {
   "cell_type": "code",
   "execution_count": null,
   "metadata": {},
   "outputs": [],
   "source": [
    "plt.figure(figsize=(26,10))\n",
    "count =0\n",
    "for i in diagnosis_list:\n",
    "    plt.subplot(1,3,count+1)\n",
    "    plt.xticks(rotation=90,fontsize=15)\n",
    "    plt.xlabel(i,fontsize=20)\n",
    "    sns.countplot(df_visual_diabetic[i], hue=df_visual_diabetic['readmitted'], palette='autumn');\n",
    "    count = count+1"
   ]
  },
  {
   "cell_type": "code",
   "execution_count": null,
   "metadata": {},
   "outputs": [],
   "source": []
  },
  {
   "cell_type": "code",
   "execution_count": null,
   "metadata": {},
   "outputs": [],
   "source": [
    "# Based on drugs"
   ]
  },
  {
   "cell_type": "code",
   "execution_count": null,
   "metadata": {},
   "outputs": [],
   "source": [
    "plt.figure(figsize=(25,35))\n",
    "count =0\n",
    "for i in drugs_list:\n",
    "    plt.subplot(7,3,count+1)\n",
    "    plt.xticks(fontsize=15)\n",
    "    plt.xlabel(i,fontsize=20)\n",
    "    sns.countplot(df_visual_diabetic[i], hue=df_visual_diabetic['readmitted'], palette='coolwarm');\n",
    "    count = count+1"
   ]
  },
  {
   "cell_type": "code",
   "execution_count": null,
   "metadata": {},
   "outputs": [],
   "source": []
  },
  {
   "cell_type": "code",
   "execution_count": null,
   "metadata": {
    "scrolled": true
   },
   "outputs": [],
   "source": [
    "fig, ax =plt.subplots(figsize=(15,5))\n",
    "sns.countplot(x=\"insulin\", hue=\"readmitted\", data=df_visual_diabetic, palette=\"YlGnBu\")\n",
    "plt.show()"
   ]
  },
  {
   "cell_type": "code",
   "execution_count": null,
   "metadata": {},
   "outputs": [],
   "source": [
    "# Understanding how the major drug 'Insulin' influences patient behaviour\n",
    "# for majority of the patients Insulin was not administered\n",
    "# people whose insulin doses were Up or down i.e increased are more likely to get re-admitted..\n",
    "# Why down increases readmission???"
   ]
  },
  {
   "cell_type": "code",
   "execution_count": null,
   "metadata": {},
   "outputs": [],
   "source": []
  },
  {
   "cell_type": "code",
   "execution_count": null,
   "metadata": {},
   "outputs": [],
   "source": [
    "# exclude patients without a glucose reading\n",
    "plt.figure(figsize=(15, 7))\n",
    "glucose_none = df_visual_diabetic[df_visual_diabetic.max_glu_serum != 'None']\n",
    "\n",
    "# glucose serum results and readmit impact\n",
    "ax = sns.countplot(x='max_glu_serum', hue='readmitted', palette='Accent', data=glucose_none)\n",
    "labels_catnum(ax,glucose_none)\n",
    "plt.title('Readmits By Glucose Serum Levels')\n",
    "plt.show()"
   ]
  },
  {
   "cell_type": "code",
   "execution_count": null,
   "metadata": {},
   "outputs": [],
   "source": [
    "# if the glucose serum test value with"
   ]
  },
  {
   "cell_type": "code",
   "execution_count": null,
   "metadata": {},
   "outputs": [],
   "source": [
    "# exclude patients without an A1C reading\n",
    "alc_none = df_visual_diabetic[df_visual_diabetic.A1Cresult != 'None']\n",
    "plt.figure(figsize=(15, 9))\n",
    "# A1C results and readmit impact\n",
    "ax = sns.countplot(x='A1Cresult', hue='readmitted', palette='Wistia', data=alc_none)\n",
    "labels_catnum(ax, alc_none)\n",
    "plt.title('Readmits By A1C Test Results')\n",
    "plt.show()"
   ]
  },
  {
   "cell_type": "code",
   "execution_count": null,
   "metadata": {},
   "outputs": [],
   "source": [
    "# change in medications\n",
    "plt.figure(figsize=(15,7))\n",
    "ax = sns.countplot(x='change', hue='readmitted', data=df_visual_diabetic)\n",
    "labels(ax)\n",
    "plt.title('Change in Diabetic Medications')\n",
    "plt.show()"
   ]
  },
  {
   "cell_type": "code",
   "execution_count": null,
   "metadata": {},
   "outputs": [],
   "source": [
    "# if there is no change in medication the readmission rate is less.."
   ]
  },
  {
   "cell_type": "code",
   "execution_count": null,
   "metadata": {},
   "outputs": [],
   "source": [
    "plt.figure(figsize=(15,7))\n",
    "ax = sns.countplot(x='diabetesMed', hue='readmitted', data=df_visual_diabetic)\n",
    "labels(ax)\n",
    "plt.title('Comparison When No drugs were given vs when atleast 1 drug was administered')\n",
    "plt.show()"
   ]
  },
  {
   "cell_type": "code",
   "execution_count": null,
   "metadata": {},
   "outputs": [],
   "source": [
    "#     No significant impact on patient readmission.."
   ]
  },
  {
   "cell_type": "markdown",
   "metadata": {},
   "source": [
    "### CATEGORICAL VS CATEGORICAL"
   ]
  },
  {
   "cell_type": "markdown",
   "metadata": {},
   "source": [
    "### PATIENT DEMOGRAPHICS VS REST"
   ]
  },
  {
   "cell_type": "code",
   "execution_count": null,
   "metadata": {},
   "outputs": [],
   "source": [
    "plt.figure(figsize=(26,60))\n",
    "count =0\n",
    "for i in patient_demographics_list:\n",
    "    for j in patient_formalities_list:\n",
    "        plt.subplot(6,2,count+1)\n",
    "        plt.xticks(fontsize=15,rotation=90)\n",
    "        plt.xlabel(i,fontsize=20)\n",
    "        sns.countplot(x=j, hue=i,data=df_visual_diabetic, palette='gnuplot');\n",
    "        count = count+1"
   ]
  },
  {
   "cell_type": "code",
   "execution_count": null,
   "metadata": {},
   "outputs": [],
   "source": []
  },
  {
   "cell_type": "code",
   "execution_count": null,
   "metadata": {},
   "outputs": [],
   "source": []
  },
  {
   "cell_type": "code",
   "execution_count": null,
   "metadata": {},
   "outputs": [],
   "source": [
    "plt.figure(figsize=(26,99))\n",
    "count =0\n",
    "for i in patient_demographics_list:\n",
    "    for j in diagnosis_list:\n",
    "        plt.subplot(9,1,count+1)\n",
    "        plt.xticks(fontsize=15)\n",
    "        plt.xlabel(i,fontsize=20)\n",
    "        sns.countplot(x=j, hue=i,data=df_visual_diabetic, palette='Set1_r');\n",
    "        count = count+1"
   ]
  },
  {
   "cell_type": "code",
   "execution_count": null,
   "metadata": {},
   "outputs": [],
   "source": []
  },
  {
   "cell_type": "code",
   "execution_count": null,
   "metadata": {},
   "outputs": [],
   "source": []
  },
  {
   "cell_type": "code",
   "execution_count": null,
   "metadata": {},
   "outputs": [],
   "source": [
    "plt.figure(figsize=(26,30))\n",
    "count =0\n",
    "for i in patient_demographics_list:\n",
    "    for j in primary_tests_list:\n",
    "        plt.subplot(3,2,count+1)\n",
    "        plt.xticks(fontsize=15)\n",
    "        plt.xlabel(i,fontsize=20)\n",
    "        sns.countplot(x=j, hue=i,data=df_visual_diabetic, palette='gnuplot');\n",
    "        count = count+1"
   ]
  },
  {
   "cell_type": "code",
   "execution_count": null,
   "metadata": {},
   "outputs": [],
   "source": []
  },
  {
   "cell_type": "code",
   "execution_count": null,
   "metadata": {},
   "outputs": [],
   "source": []
  },
  {
   "cell_type": "code",
   "execution_count": null,
   "metadata": {},
   "outputs": [],
   "source": [
    "plt.figure(figsize=(26,30))\n",
    "count =0\n",
    "for i in patient_demographics_list:\n",
    "    for j in medication_changes_list:\n",
    "        plt.subplot(3,2,count+1)\n",
    "        plt.xticks(fontsize=15)\n",
    "        plt.xlabel(i,fontsize=20)\n",
    "        sns.countplot(x=j, hue=i,data=df_visual_diabetic, palette='CMRmap_r');\n",
    "        count = count+1"
   ]
  },
  {
   "cell_type": "code",
   "execution_count": null,
   "metadata": {},
   "outputs": [],
   "source": []
  },
  {
   "cell_type": "code",
   "execution_count": null,
   "metadata": {},
   "outputs": [],
   "source": [
    "plt.figure(figsize=(26,30))\n",
    "count =0\n",
    "for i in patient_demographics_list:\n",
    "    plt.subplot(3,1,count+1)\n",
    "    plt.xticks(fontsize=15)\n",
    "    plt.xlabel(i,fontsize=20)\n",
    "    sns.countplot(x='insulin', hue=i,data=df_visual_diabetic, palette='gnuplot');\n",
    "    count = count+1"
   ]
  },
  {
   "cell_type": "code",
   "execution_count": null,
   "metadata": {},
   "outputs": [],
   "source": []
  },
  {
   "cell_type": "markdown",
   "metadata": {},
   "source": [
    "### PATIENT FORMALITIES VS REST"
   ]
  },
  {
   "cell_type": "code",
   "execution_count": null,
   "metadata": {},
   "outputs": [],
   "source": [
    "plt.figure(figsize=(26,60))\n",
    "count =0\n",
    "for i in patient_formalities_list:\n",
    "    for j in diagnosis_list:\n",
    "        plt.subplot(6,2,count+1)\n",
    "        plt.xticks(fontsize=15)\n",
    "        plt.xlabel(i,fontsize=20)\n",
    "        plt.legend('right')\n",
    "        sns.countplot(x=j, hue=i,data=df_visual_diabetic, palette='brg');\n",
    "        count = count+1"
   ]
  },
  {
   "cell_type": "code",
   "execution_count": null,
   "metadata": {},
   "outputs": [],
   "source": []
  },
  {
   "cell_type": "code",
   "execution_count": null,
   "metadata": {},
   "outputs": [],
   "source": []
  },
  {
   "cell_type": "code",
   "execution_count": null,
   "metadata": {},
   "outputs": [],
   "source": [
    "plt.figure(figsize=(26,40))\n",
    "count =0\n",
    "for i in patient_formalities_list:\n",
    "    for j in medication_changes_list:\n",
    "        plt.subplot(4,2,count+1)\n",
    "        plt.xticks(fontsize=15)\n",
    "        plt.xlabel(i,fontsize=20)\n",
    "        sns.countplot(x=j, hue=i,data=df_visual_diabetic, palette='CMRmap');\n",
    "        count = count+1"
   ]
  },
  {
   "cell_type": "code",
   "execution_count": null,
   "metadata": {},
   "outputs": [],
   "source": []
  },
  {
   "cell_type": "code",
   "execution_count": null,
   "metadata": {},
   "outputs": [],
   "source": [
    "plt.figure(figsize=(26,40))\n",
    "count =0\n",
    "for i in patient_formalities_list:\n",
    "    for j in primary_tests_list:\n",
    "        plt.subplot(4,2,count+1)\n",
    "        plt.xticks(fontsize=15)\n",
    "        plt.xlabel(i,fontsize=20)\n",
    "        plt.legend('right')\n",
    "        sns.countplot(x=j, hue=i,data=df_visual_diabetic, palette='Dark2_r');\n",
    "        count = count+1"
   ]
  },
  {
   "cell_type": "code",
   "execution_count": null,
   "metadata": {},
   "outputs": [],
   "source": []
  },
  {
   "cell_type": "code",
   "execution_count": null,
   "metadata": {},
   "outputs": [],
   "source": [
    "plt.figure(figsize=(26,20))\n",
    "count =0\n",
    "for i in patient_formalities_list:\n",
    "    plt.subplot(2,2,count+1)\n",
    "    plt.xticks(fontsize=15)\n",
    "    plt.xlabel(i,fontsize=20)\n",
    "    sns.countplot(x='insulin', hue=i,data=df_visual_diabetic, palette='Dark2');\n",
    "    count = count+1"
   ]
  },
  {
   "cell_type": "code",
   "execution_count": null,
   "metadata": {},
   "outputs": [],
   "source": []
  },
  {
   "cell_type": "code",
   "execution_count": null,
   "metadata": {},
   "outputs": [],
   "source": []
  },
  {
   "cell_type": "markdown",
   "metadata": {},
   "source": [
    "### DIAGNOSES VS REST"
   ]
  },
  {
   "cell_type": "code",
   "execution_count": null,
   "metadata": {},
   "outputs": [],
   "source": []
  },
  {
   "cell_type": "code",
   "execution_count": null,
   "metadata": {},
   "outputs": [],
   "source": [
    "plt.figure(figsize=(26,30))\n",
    "count =0\n",
    "for i in diagnosis_list:\n",
    "    for j in primary_tests_list:\n",
    "        plt.subplot(3,2,count+1)\n",
    "        plt.xticks(fontsize=15)\n",
    "        plt.xlabel(i,fontsize=20)\n",
    "        plt.legend('right')\n",
    "        sns.countplot(x=j, hue=i,data=df_visual_diabetic, palette='brg_r');\n",
    "        count = count+1"
   ]
  },
  {
   "cell_type": "code",
   "execution_count": null,
   "metadata": {},
   "outputs": [],
   "source": []
  },
  {
   "cell_type": "code",
   "execution_count": null,
   "metadata": {},
   "outputs": [],
   "source": []
  },
  {
   "cell_type": "code",
   "execution_count": null,
   "metadata": {},
   "outputs": [],
   "source": [
    "plt.figure(figsize=(26,30))\n",
    "count =0\n",
    "for i in diagnosis_list:\n",
    "    for j in medication_changes_list:\n",
    "        plt.subplot(3,2,count+1)\n",
    "        plt.xticks(fontsize=15)\n",
    "        plt.xlabel(i,fontsize=20)\n",
    "        plt.legend('right')\n",
    "        sns.countplot(x=j, hue=i,data=df_visual_diabetic, palette='icefire');\n",
    "        count = count+1"
   ]
  },
  {
   "cell_type": "code",
   "execution_count": null,
   "metadata": {},
   "outputs": [],
   "source": []
  },
  {
   "cell_type": "code",
   "execution_count": null,
   "metadata": {},
   "outputs": [],
   "source": [
    "plt.figure(figsize=(26,30))\n",
    "count =0\n",
    "for i in diagnosis_list:\n",
    "    plt.subplot(3,1,count+1)\n",
    "    plt.xticks(fontsize=15)\n",
    "    plt.xlabel(i,fontsize=20)\n",
    "    sns.countplot(x='insulin', hue=i,data=df_visual_diabetic, palette='Set1_r');\n",
    "    count = count+1"
   ]
  },
  {
   "cell_type": "code",
   "execution_count": null,
   "metadata": {},
   "outputs": [],
   "source": []
  },
  {
   "cell_type": "markdown",
   "metadata": {},
   "source": [
    "### PRIMARY TESTS VS REST"
   ]
  },
  {
   "cell_type": "code",
   "execution_count": null,
   "metadata": {},
   "outputs": [],
   "source": [
    "plt.figure(figsize=(26,20))\n",
    "count =0\n",
    "for i in primary_tests_list:\n",
    "    for j in medication_changes_list:\n",
    "        plt.subplot(2,2,count+1)\n",
    "        plt.xticks(fontsize=15)\n",
    "        plt.xlabel(i,fontsize=20)\n",
    "        plt.legend('right')\n",
    "        sns.countplot(x=j, hue=i,data=df_visual_diabetic, palette='nipy_spectral_r');\n",
    "        count = count+1"
   ]
  },
  {
   "cell_type": "code",
   "execution_count": null,
   "metadata": {},
   "outputs": [],
   "source": []
  },
  {
   "cell_type": "code",
   "execution_count": null,
   "metadata": {},
   "outputs": [],
   "source": [
    "plt.figure(figsize=(26,20))\n",
    "count =0\n",
    "for i in primary_tests_list:\n",
    "    plt.subplot(2,1,count+1)\n",
    "    plt.xticks(fontsize=15)\n",
    "    plt.xlabel(i,fontsize=20)\n",
    "    sns.countplot(x='insulin', hue=i,data=df_visual_diabetic, palette='CMRmap_r');\n",
    "    count = count+1"
   ]
  },
  {
   "cell_type": "code",
   "execution_count": null,
   "metadata": {},
   "outputs": [],
   "source": [
    "# reduced level of insulin for older people should be taken into consideration..doctors have to study.."
   ]
  },
  {
   "cell_type": "code",
   "execution_count": null,
   "metadata": {},
   "outputs": [],
   "source": [
    "# patient_demographics_list,hospital_formalities , drugs,diagnosis_list,primary_tests_list,medication_changes_list"
   ]
  },
  {
   "cell_type": "code",
   "execution_count": null,
   "metadata": {},
   "outputs": [],
   "source": [
    "# Have all the diabetic patients provided with insulin?"
   ]
  },
  {
   "cell_type": "code",
   "execution_count": null,
   "metadata": {},
   "outputs": [],
   "source": [
    "# comparison between patients who were not administered any drug and their diagnosis"
   ]
  },
  {
   "cell_type": "markdown",
   "metadata": {},
   "source": [
    "### NUMERICAL FEATURES VS CATEGORICAL FEATURES"
   ]
  },
  {
   "cell_type": "markdown",
   "metadata": {},
   "source": [
    "### patient_demographics_list vs Number_of_hospital_formalities "
   ]
  },
  {
   "cell_type": "code",
   "execution_count": null,
   "metadata": {},
   "outputs": [],
   "source": [
    "plt.figure(figsize=(26,40))\n",
    "count =0\n",
    "for i in patient_demographics_list:\n",
    "    for j in number_of_hospital_formalities:\n",
    "        plt.subplot(8,2,count+1)\n",
    "        plt.xticks(fontsize=15)\n",
    "        plt.xlabel(i,fontsize=20)\n",
    "        plt.legend('right')\n",
    "        sns.boxplot(x=i, y=j, data=df_visual_diabetic.sort_values(i),palette='nipy_spectral')\n",
    "        count += 1"
   ]
  },
  {
   "cell_type": "code",
   "execution_count": null,
   "metadata": {},
   "outputs": [],
   "source": []
  },
  {
   "cell_type": "code",
   "execution_count": null,
   "metadata": {},
   "outputs": [],
   "source": []
  },
  {
   "cell_type": "code",
   "execution_count": null,
   "metadata": {},
   "outputs": [],
   "source": [
    "plt.figure(figsize=(26,24))\n",
    "count =0\n",
    "for i in patient_demographics_list:\n",
    "    for j in number_of_visits:\n",
    "        plt.subplot(4,3,count+1)\n",
    "        plt.xticks(rotation=90,fontsize=15)\n",
    "        plt.xlabel(i,fontsize=20)\n",
    "        plt.legend('right')\n",
    "        sns.boxplot(x=i, y=j, data=df_visual_diabetic.sort_values(i),palette='nipy_spectral_r')\n",
    "        count += 1"
   ]
  },
  {
   "cell_type": "code",
   "execution_count": null,
   "metadata": {},
   "outputs": [],
   "source": []
  },
  {
   "cell_type": "code",
   "execution_count": null,
   "metadata": {},
   "outputs": [],
   "source": []
  },
  {
   "cell_type": "code",
   "execution_count": null,
   "metadata": {},
   "outputs": [],
   "source": [
    "plt.figure(figsize=(26,100))\n",
    "count =0\n",
    "for i in patient_formalities_list:\n",
    "    for j in number_of_hospital_formalities:\n",
    "        plt.subplot(10,2,count+1)\n",
    "        plt.xticks(rotation=90,fontsize=9,fontweight='heavy')\n",
    "        plt.xlabel(i,fontsize=20)\n",
    "        plt.legend('right')\n",
    "        sns.boxplot(x=i, y=j, data=df_visual_diabetic.sort_values(i),palette='plasma_r')\n",
    "        count += 1"
   ]
  },
  {
   "cell_type": "code",
   "execution_count": null,
   "metadata": {},
   "outputs": [],
   "source": []
  },
  {
   "cell_type": "code",
   "execution_count": null,
   "metadata": {},
   "outputs": [],
   "source": []
  },
  {
   "cell_type": "code",
   "execution_count": null,
   "metadata": {
    "scrolled": true
   },
   "outputs": [],
   "source": [
    "plt.figure(figsize=(26,40))\n",
    "fig.tight_layout()\n",
    "count =0\n",
    "for i in patient_formalities_list:\n",
    "    for j in number_of_visits:\n",
    "        plt.subplot(8,2,count+1,)\n",
    "        plt.xticks(rotation=90,fontsize=9,fontweight='heavy')\n",
    "        plt.xlabel(i,fontsize=20)\n",
    "        plt.legend('right')\n",
    "        sns.boxplot(x=i, y=j, data=df_visual_diabetic.sort_values(i),palette='brg')\n",
    "        count += 1"
   ]
  },
  {
   "cell_type": "code",
   "execution_count": null,
   "metadata": {},
   "outputs": [],
   "source": []
  },
  {
   "cell_type": "code",
   "execution_count": null,
   "metadata": {},
   "outputs": [],
   "source": []
  },
  {
   "cell_type": "code",
   "execution_count": null,
   "metadata": {},
   "outputs": [],
   "source": [
    "plt.figure(figsize=(26,104))\n",
    "fig.tight_layout()\n",
    "count =0\n",
    "for i in diagnosis_list:\n",
    "    for j in number_of_hospital_formalities:\n",
    "        plt.subplot(8,2,count+1,)\n",
    "        plt.xticks(rotation=90,fontsize=13,fontweight='heavy')\n",
    "        plt.xlabel(i,fontsize=20)\n",
    "        plt.legend('right')\n",
    "        sns.boxplot(x=i, y=j, data=df_visual_diabetic.sort_values(i),palette='Set1')\n",
    "        count += 1"
   ]
  },
  {
   "cell_type": "code",
   "execution_count": null,
   "metadata": {},
   "outputs": [],
   "source": []
  },
  {
   "cell_type": "code",
   "execution_count": null,
   "metadata": {},
   "outputs": [],
   "source": []
  },
  {
   "cell_type": "code",
   "execution_count": null,
   "metadata": {},
   "outputs": [],
   "source": [
    "plt.figure(figsize=(26,27))\n",
    "fig.tight_layout()\n",
    "count =0\n",
    "for i in diagnosis_list:\n",
    "    for j in number_of_visits:\n",
    "        plt.subplot(4,3,count+1,)\n",
    "        plt.xticks(rotation=90,fontsize=9,fontweight='heavy')\n",
    "        plt.xlabel(i,fontsize=20)\n",
    "        plt.legend('right')\n",
    "        sns.boxplot(x=i, y=j, data=df_visual_diabetic.sort_values(i),palette='plasma')\n",
    "        count += 1"
   ]
  },
  {
   "cell_type": "code",
   "execution_count": null,
   "metadata": {},
   "outputs": [],
   "source": []
  },
  {
   "cell_type": "code",
   "execution_count": null,
   "metadata": {},
   "outputs": [],
   "source": [
    "plt.figure(figsize=(26,50))\n",
    "fig.tight_layout()\n",
    "count =0\n",
    "for i in primary_tests_list:\n",
    "    for j in number_of_hospital_formalities:\n",
    "        plt.subplot(5,2,count+1,)\n",
    "        plt.xticks(rotation=90,fontsize=13,fontweight='heavy')\n",
    "        plt.xlabel(i,fontsize=20)\n",
    "        plt.legend('right')\n",
    "        sns.boxplot(x=i, y=j, data=df_visual_diabetic.sort_values(i),palette='autumn')\n",
    "        count += 1"
   ]
  },
  {
   "cell_type": "code",
   "execution_count": null,
   "metadata": {},
   "outputs": [],
   "source": []
  },
  {
   "cell_type": "code",
   "execution_count": null,
   "metadata": {},
   "outputs": [],
   "source": [
    "plt.figure(figsize=(26,20))\n",
    "fig.tight_layout()\n",
    "count =0\n",
    "for i in primary_tests_list:\n",
    "    for j in number_of_visits:\n",
    "        plt.subplot(3,3,count+1,)\n",
    "        plt.xticks(rotation=90,fontsize=13,fontweight='heavy')\n",
    "        plt.xlabel(i,fontsize=20)\n",
    "        plt.legend('right')\n",
    "        sns.boxplot(x=i, y=j, data=df_visual_diabetic.sort_values(i),palette='brg')\n",
    "        count += 1"
   ]
  },
  {
   "cell_type": "code",
   "execution_count": null,
   "metadata": {},
   "outputs": [],
   "source": []
  },
  {
   "cell_type": "code",
   "execution_count": null,
   "metadata": {},
   "outputs": [],
   "source": []
  },
  {
   "cell_type": "code",
   "execution_count": null,
   "metadata": {},
   "outputs": [],
   "source": [
    "plt.figure(figsize=(26,50))\n",
    "fig.tight_layout()\n",
    "count =0\n",
    "for i in medication_changes_list:\n",
    "    for j in number_of_hospital_formalities:\n",
    "        plt.subplot(5,2,count+1,)\n",
    "        plt.xticks(rotation=90,fontsize=13,fontweight='heavy')\n",
    "        plt.xlabel(i,fontsize=20)\n",
    "        plt.legend('right')\n",
    "        sns.boxplot(x=i, y=j, data=df_visual_diabetic.sort_values(i),palette='icefire')\n",
    "        count += 1"
   ]
  },
  {
   "cell_type": "code",
   "execution_count": null,
   "metadata": {},
   "outputs": [],
   "source": []
  },
  {
   "cell_type": "code",
   "execution_count": null,
   "metadata": {},
   "outputs": [],
   "source": [
    "plt.figure(figsize=(26,20))\n",
    "fig.tight_layout()\n",
    "count =0\n",
    "for i in medication_changes_list:\n",
    "    for j in number_of_visits:\n",
    "        plt.subplot(3,3,count+1,)\n",
    "        plt.xticks(rotation=90,fontsize=13,fontweight='heavy')\n",
    "        plt.xlabel(i,fontsize=20)\n",
    "        plt.legend('right')\n",
    "        sns.boxplot(x=i, y=j, data=df_visual_diabetic.sort_values(i),palette='CMRmap')\n",
    "        count += 1"
   ]
  },
  {
   "cell_type": "code",
   "execution_count": null,
   "metadata": {},
   "outputs": [],
   "source": []
  },
  {
   "cell_type": "code",
   "execution_count": null,
   "metadata": {},
   "outputs": [],
   "source": [
    "plt.figure(figsize=(26,30))\n",
    "fig.tight_layout()\n",
    "count =0\n",
    "for i in ['insulin']:\n",
    "    for j in number_of_hospital_formalities:\n",
    "        plt.subplot(3,2,count+1,)\n",
    "        plt.xticks(rotation=90,fontsize=13,fontweight='heavy')\n",
    "        plt.xlabel(i,fontsize=20)\n",
    "        plt.legend('right')\n",
    "        sns.boxplot(x=i, y=j, data=df_visual_diabetic.sort_values(i),palette='gnuplot')\n",
    "        count += 1"
   ]
  },
  {
   "cell_type": "code",
   "execution_count": null,
   "metadata": {},
   "outputs": [],
   "source": []
  },
  {
   "cell_type": "code",
   "execution_count": null,
   "metadata": {},
   "outputs": [],
   "source": []
  },
  {
   "cell_type": "code",
   "execution_count": null,
   "metadata": {},
   "outputs": [],
   "source": [
    "plt.figure(figsize=(26,10))\n",
    "fig.tight_layout()\n",
    "count =0\n",
    "for i in ['insulin']:\n",
    "    for j in number_of_visits:\n",
    "        plt.subplot(2,2,count+1,)\n",
    "        plt.xticks(rotation=90,fontsize=13,fontweight='heavy')\n",
    "        plt.xlabel(i,fontsize=20)\n",
    "        plt.legend('right')\n",
    "        sns.boxplot(x=i, y=j, data=df_visual_diabetic.sort_values(i),palette='Set2')\n",
    "        count += 1"
   ]
  },
  {
   "cell_type": "code",
   "execution_count": null,
   "metadata": {},
   "outputs": [],
   "source": []
  },
  {
   "cell_type": "markdown",
   "metadata": {},
   "source": [
    "# MULTIVARIATE ANALYSIS"
   ]
  },
  {
   "cell_type": "code",
   "execution_count": null,
   "metadata": {},
   "outputs": [],
   "source": []
  },
  {
   "cell_type": "code",
   "execution_count": null,
   "metadata": {},
   "outputs": [],
   "source": [
    "plt.figure(figsize=(26,40))\n",
    "count =0\n",
    "for i in patient_demographics_list:\n",
    "    for j in number_of_hospital_formalities:\n",
    "        plt.subplot(8,2,count+1)\n",
    "        plt.xticks(fontsize=15)\n",
    "        plt.xlabel(i,fontsize=20)\n",
    "        plt.legend('right')\n",
    "        sns.boxplot(x=i, y=j, data=df_visual_diabetic.sort_values(i),hue='readmitted',palette='nipy_spectral')\n",
    "        count += 1"
   ]
  },
  {
   "cell_type": "code",
   "execution_count": null,
   "metadata": {},
   "outputs": [],
   "source": []
  },
  {
   "cell_type": "code",
   "execution_count": null,
   "metadata": {},
   "outputs": [],
   "source": []
  },
  {
   "cell_type": "code",
   "execution_count": null,
   "metadata": {},
   "outputs": [],
   "source": [
    "plt.figure(figsize=(26,24))\n",
    "count =0\n",
    "for i in patient_demographics_list:\n",
    "    for j in number_of_visits:\n",
    "        plt.subplot(5,3,count+1)\n",
    "        plt.xticks(rotation=90,fontsize=15)\n",
    "        plt.xlabel(i,fontsize=20)\n",
    "        plt.legend('right')\n",
    "        sns.boxplot(x=i, y=j, data=df_visual_diabetic.sort_values(i),palette='brg_r',hue='readmitted')\n",
    "        count += 1"
   ]
  },
  {
   "cell_type": "code",
   "execution_count": null,
   "metadata": {},
   "outputs": [],
   "source": []
  },
  {
   "cell_type": "code",
   "execution_count": null,
   "metadata": {},
   "outputs": [],
   "source": []
  },
  {
   "cell_type": "code",
   "execution_count": null,
   "metadata": {},
   "outputs": [],
   "source": [
    "plt.figure(figsize=(26,100))\n",
    "count =0\n",
    "for i in patient_formalities_list:\n",
    "    for j in number_of_hospital_formalities:\n",
    "        plt.subplot(10,2,count+1)\n",
    "        plt.xticks(rotation=90,fontsize=9,fontweight='heavy')\n",
    "        plt.xlabel(i,fontsize=20)\n",
    "        plt.legend('right')\n",
    "        sns.boxplot(x=i, y=j, data=df_visual_diabetic.sort_values(i),palette='plasma_r',hue='readmitted')\n",
    "        count += 1"
   ]
  },
  {
   "cell_type": "code",
   "execution_count": null,
   "metadata": {},
   "outputs": [],
   "source": []
  },
  {
   "cell_type": "code",
   "execution_count": null,
   "metadata": {},
   "outputs": [],
   "source": []
  },
  {
   "cell_type": "code",
   "execution_count": null,
   "metadata": {},
   "outputs": [],
   "source": [
    "plt.figure(figsize=(26,40))\n",
    "fig.tight_layout()\n",
    "count =0\n",
    "for i in patient_formalities_list:\n",
    "    for j in number_of_visits:\n",
    "        plt.subplot(8,2,count+1,)\n",
    "        plt.xticks(rotation=90,fontsize=9,fontweight='heavy')\n",
    "        plt.xlabel(i,fontsize=20)\n",
    "        plt.legend('right')\n",
    "        sns.boxplot(x=i, y=j, data=df_visual_diabetic.sort_values(i),palette='gnuplot',hue='readmitted')\n",
    "        count += 1"
   ]
  },
  {
   "cell_type": "code",
   "execution_count": null,
   "metadata": {},
   "outputs": [],
   "source": []
  },
  {
   "cell_type": "code",
   "execution_count": null,
   "metadata": {},
   "outputs": [],
   "source": []
  },
  {
   "cell_type": "code",
   "execution_count": null,
   "metadata": {},
   "outputs": [],
   "source": [
    "plt.figure(figsize=(26,104))\n",
    "fig.tight_layout()\n",
    "count =0\n",
    "for i in diagnosis_list:\n",
    "    for j in number_of_hospital_formalities:\n",
    "        plt.subplot(8,2,count+1,)\n",
    "        plt.xticks(rotation=90,fontsize=13,fontweight='heavy')\n",
    "        plt.xlabel(i,fontsize=20)\n",
    "        plt.legend('right')\n",
    "        sns.boxplot(x=i, y=j, data=df_visual_diabetic.sort_values(i),palette='CMRmap',hue='readmitted')\n",
    "        count += 1"
   ]
  },
  {
   "cell_type": "code",
   "execution_count": null,
   "metadata": {},
   "outputs": [],
   "source": []
  },
  {
   "cell_type": "code",
   "execution_count": null,
   "metadata": {},
   "outputs": [],
   "source": []
  },
  {
   "cell_type": "code",
   "execution_count": null,
   "metadata": {},
   "outputs": [],
   "source": [
    "plt.figure(figsize=(26,54))\n",
    "fig.tight_layout()\n",
    "count =0\n",
    "for i in diagnosis_list:\n",
    "    for j in number_of_visits:\n",
    "        plt.subplot(6,2,count+1,)\n",
    "        plt.xticks(rotation=90,fontsize=9,fontweight='heavy')\n",
    "        plt.xlabel(i,fontsize=20)\n",
    "        plt.legend('right')\n",
    "        sns.boxplot(x=i, y=j, data=df_visual_diabetic.sort_values(i),palette='plasma',hue='readmitted')\n",
    "        count += 1"
   ]
  },
  {
   "cell_type": "code",
   "execution_count": null,
   "metadata": {},
   "outputs": [],
   "source": []
  },
  {
   "cell_type": "code",
   "execution_count": null,
   "metadata": {},
   "outputs": [],
   "source": [
    "plt.figure(figsize=(26,50))\n",
    "fig.tight_layout()\n",
    "count =0\n",
    "for i in primary_tests_list:\n",
    "    for j in number_of_hospital_formalities:\n",
    "        plt.subplot(5,2,count+1,)\n",
    "        plt.xticks(rotation=90,fontsize=13,fontweight='heavy')\n",
    "        plt.xlabel(i,fontsize=20)\n",
    "        plt.legend('right')\n",
    "        sns.boxplot(x=i, y=j, data=df_visual_diabetic.sort_values(i),palette='Reds',hue='readmitted')\n",
    "        count += 1"
   ]
  },
  {
   "cell_type": "code",
   "execution_count": null,
   "metadata": {},
   "outputs": [],
   "source": []
  },
  {
   "cell_type": "code",
   "execution_count": null,
   "metadata": {},
   "outputs": [],
   "source": [
    "plt.figure(figsize=(26,40))\n",
    "fig.tight_layout()\n",
    "count =0\n",
    "for i in primary_tests_list:\n",
    "    for j in number_of_visits:\n",
    "        plt.subplot(4,2,count+1,)\n",
    "        plt.xticks(rotation=90,fontsize=13,fontweight='heavy')\n",
    "        plt.xlabel(i,fontsize=20)\n",
    "        plt.legend('right')\n",
    "        sns.boxplot(x=i, y=j, data=df_visual_diabetic.sort_values(i),palette='icefire',hue='readmitted')\n",
    "        count += 1"
   ]
  },
  {
   "cell_type": "code",
   "execution_count": null,
   "metadata": {},
   "outputs": [],
   "source": []
  },
  {
   "cell_type": "code",
   "execution_count": null,
   "metadata": {},
   "outputs": [],
   "source": []
  },
  {
   "cell_type": "code",
   "execution_count": null,
   "metadata": {},
   "outputs": [],
   "source": [
    "plt.figure(figsize=(26,50))\n",
    "fig.tight_layout()\n",
    "count =0\n",
    "for i in medication_changes_list:\n",
    "    for j in number_of_hospital_formalities:\n",
    "        plt.subplot(5,2,count+1,)\n",
    "        plt.xticks(rotation=90,fontsize=13,fontweight='heavy')\n",
    "        plt.xlabel(i,fontsize=20)\n",
    "        plt.legend('right')\n",
    "        sns.boxplot(x=i, y=j, data=df_visual_diabetic.sort_values(i),palette='autumn_r',hue='readmitted')\n",
    "        count += 1"
   ]
  },
  {
   "cell_type": "code",
   "execution_count": null,
   "metadata": {},
   "outputs": [],
   "source": []
  },
  {
   "cell_type": "code",
   "execution_count": null,
   "metadata": {},
   "outputs": [],
   "source": [
    "plt.figure(figsize=(26,28))\n",
    "fig.tight_layout()\n",
    "count =0\n",
    "for i in medication_changes_list:\n",
    "    for j in number_of_visits:\n",
    "        plt.subplot(4,2,count+1,)\n",
    "        plt.xticks(rotation=90,fontsize=13,fontweight='heavy')\n",
    "        plt.xlabel(i,fontsize=20)\n",
    "        plt.legend('right')\n",
    "        sns.boxplot(x=i, y=j, data=df_visual_diabetic.sort_values(i),palette='CMRmap_r',hue='readmitted')\n",
    "        count += 1"
   ]
  },
  {
   "cell_type": "code",
   "execution_count": null,
   "metadata": {},
   "outputs": [],
   "source": []
  },
  {
   "cell_type": "code",
   "execution_count": null,
   "metadata": {},
   "outputs": [],
   "source": [
    "plt.figure(figsize=(26,30))\n",
    "fig.tight_layout()\n",
    "count =0\n",
    "for i in ['insulin']:\n",
    "    for j in number_of_hospital_formalities:\n",
    "        plt.subplot(3,2,count+1,)\n",
    "        plt.xticks(rotation=90,fontsize=13,fontweight='heavy')\n",
    "        plt.xlabel(i,fontsize=20)\n",
    "        plt.legend('right')\n",
    "        sns.boxplot(x=i, y=j, data=df_visual_diabetic.sort_values(i),palette='gnuplot_r',hue='readmitted')\n",
    "        count += 1"
   ]
  },
  {
   "cell_type": "code",
   "execution_count": null,
   "metadata": {},
   "outputs": [],
   "source": []
  },
  {
   "cell_type": "code",
   "execution_count": null,
   "metadata": {},
   "outputs": [],
   "source": []
  },
  {
   "cell_type": "code",
   "execution_count": null,
   "metadata": {},
   "outputs": [],
   "source": [
    "plt.figure(figsize=(26,20))\n",
    "fig.tight_layout()\n",
    "count =0\n",
    "for i in ['insulin']:\n",
    "    for j in number_of_visits:\n",
    "        plt.subplot(2,2,count+1,)\n",
    "        plt.xticks(rotation=90,fontsize=13,fontweight='heavy')\n",
    "        plt.xlabel(i,fontsize=20)\n",
    "        plt.legend('right')\n",
    "        sns.boxplot(x=i, y=j, data=df_visual_diabetic.sort_values(i),palette='icefire_r',hue='readmitted')\n",
    "        count += 1"
   ]
  },
  {
   "cell_type": "markdown",
   "metadata": {},
   "source": [
    "### BUSINESS INTERPRETATION AND INSIGHTS"
   ]
  },
  {
   "cell_type": "markdown",
   "metadata": {},
   "source": [
    "### INSIGHTS THAT ARE FOUND USING PREVIOUS ANALYSIS"
   ]
  },
  {
   "cell_type": "code",
   "execution_count": null,
   "metadata": {},
   "outputs": [],
   "source": []
  },
  {
   "cell_type": "markdown",
   "metadata": {},
   "source": [
    "### FINDING THE CAUSE FOR EVENTS.. "
   ]
  },
  {
   "cell_type": "code",
   "execution_count": null,
   "metadata": {},
   "outputs": [],
   "source": [
    "df_visual_diabetic[(df_visual_diabetic['diag_1'].isnull()) & (df_visual_diabetic['diag_1'].isnull()) & (df_visual_diabetic['diag_1'].isnull())]"
   ]
  },
  {
   "cell_type": "code",
   "execution_count": null,
   "metadata": {},
   "outputs": [],
   "source": [
    "# Understanding Expired Patients wrt their disorders"
   ]
  },
  {
   "cell_type": "code",
   "execution_count": null,
   "metadata": {},
   "outputs": [],
   "source": [
    "df_visual_diabetic[df_visual_diabetic['discharge_disposition_id']=='Expired']['readmitted'].value_counts()"
   ]
  },
  {
   "cell_type": "code",
   "execution_count": null,
   "metadata": {},
   "outputs": [],
   "source": [
    "df_visual_diabetic[df_visual_diabetic['discharge_disposition_id']=='Hospice']['readmitted'].value_counts()"
   ]
  },
  {
   "cell_type": "code",
   "execution_count": null,
   "metadata": {},
   "outputs": [],
   "source": [
    "diag_tab_expired = pd.DataFrame(df_visual_diabetic[df_visual_diabetic['discharge_disposition_id']=='Expired']['diag_1'].value_counts())"
   ]
  },
  {
   "cell_type": "code",
   "execution_count": null,
   "metadata": {},
   "outputs": [],
   "source": [
    "diag_tab_expired['diag_2'] = df_visual_diabetic[df_visual_diabetic['discharge_disposition_id']=='Expired']['diag_2'].value_counts()"
   ]
  },
  {
   "cell_type": "code",
   "execution_count": null,
   "metadata": {},
   "outputs": [],
   "source": [
    "diag_tab_expired['diag_3'] = df_visual_diabetic[df_visual_diabetic['discharge_disposition_id']=='Expired']['diag_3'].value_counts()"
   ]
  },
  {
   "cell_type": "code",
   "execution_count": null,
   "metadata": {
    "scrolled": true
   },
   "outputs": [],
   "source": [
    "diag_tab_expired.plot(kind='bar',figsize=(26,10));"
   ]
  },
  {
   "cell_type": "code",
   "execution_count": null,
   "metadata": {},
   "outputs": [],
   "source": [
    "# From the above graph we could say that many patients who expired had Circulatory disorder...But the ratio of circulatory\n",
    "# patients is also considerably high"
   ]
  },
  {
   "cell_type": "code",
   "execution_count": null,
   "metadata": {},
   "outputs": [],
   "source": [
    "fatality_percent_diag_1 = {}\n",
    "fatality_percent_diag_2 = {}\n",
    "fatality_percent_diag_3 = {}\n",
    "for cat in df_visual_diabetic['diag_1'].unique():\n",
    "    fatality_percent_diag_1.update({cat:100*(len(df_visual_diabetic[(df_visual_diabetic['diag_1']==cat) & (df_visual_diabetic['discharge_disposition_id']=='Expired')])/len(df_visual_diabetic[df_visual_diabetic['diag_1']==cat]))})\n",
    "    fatality_percent_diag_2.update({cat:100*(len(df_visual_diabetic[(df_visual_diabetic['diag_2']==cat) & (df_visual_diabetic['discharge_disposition_id']=='Expired')])/len(df_visual_diabetic[df_visual_diabetic['diag_2']==cat]))})\n",
    "    fatality_percent_diag_3.update({cat:100*(len(df_visual_diabetic[(df_visual_diabetic['diag_3']==cat) & (df_visual_diabetic['discharge_disposition_id']=='Expired')])/len(df_visual_diabetic[df_visual_diabetic['diag_3']==cat]))})\n",
    "    "
   ]
  },
  {
   "cell_type": "code",
   "execution_count": null,
   "metadata": {},
   "outputs": [],
   "source": [
    "fatality_percent = pd.DataFrame()\n",
    "for key in fatality_percent_diag_1:\n",
    "    fatality_percent[key]=[fatality_percent_diag_1[key],fatality_percent_diag_2[key],fatality_percent_diag_3[key]]\n",
    "    "
   ]
  },
  {
   "cell_type": "code",
   "execution_count": null,
   "metadata": {},
   "outputs": [],
   "source": [
    "fatality_percent = fatality_percent.T"
   ]
  },
  {
   "cell_type": "code",
   "execution_count": null,
   "metadata": {},
   "outputs": [],
   "source": [
    "fatality_percent.columns=['diag_1','diag_2','diag_3']"
   ]
  },
  {
   "cell_type": "code",
   "execution_count": null,
   "metadata": {},
   "outputs": [],
   "source": [
    "fatality_percent.plot(kind='bar',figsize=(26,10));"
   ]
  },
  {
   "cell_type": "code",
   "execution_count": null,
   "metadata": {},
   "outputs": [],
   "source": [
    "# the above plot shows the rate of expiration in terms of disease.."
   ]
  },
  {
   "cell_type": "code",
   "execution_count": null,
   "metadata": {},
   "outputs": [],
   "source": [
    "# Understandiing transferred Patients wrt their disorders"
   ]
  },
  {
   "cell_type": "code",
   "execution_count": null,
   "metadata": {},
   "outputs": [],
   "source": [
    "diag_tab_transferred = pd.DataFrame(df_visual_diabetic[df_visual_diabetic['discharge_disposition_id']=='Transferred/Referred']['diag_1'].value_counts())"
   ]
  },
  {
   "cell_type": "code",
   "execution_count": null,
   "metadata": {},
   "outputs": [],
   "source": [
    "diag_tab_transferred['diag_2'] = df_visual_diabetic[df_visual_diabetic['discharge_disposition_id']=='Transferred/Referred']['diag_2'].value_counts()"
   ]
  },
  {
   "cell_type": "code",
   "execution_count": null,
   "metadata": {},
   "outputs": [],
   "source": [
    "diag_tab_transferred['diag_3'] = df_visual_diabetic[df_visual_diabetic['discharge_disposition_id']=='Transferred/Referred']['diag_3'].value_counts()"
   ]
  },
  {
   "cell_type": "code",
   "execution_count": null,
   "metadata": {},
   "outputs": [],
   "source": [
    "diag_tab_transferred.plot(kind='bar',figsize=(26,10));"
   ]
  },
  {
   "cell_type": "code",
   "execution_count": null,
   "metadata": {},
   "outputs": [],
   "source": [
    "# Many patients who were transferred had a circulatory disorder and other disorders with diabetes.."
   ]
  },
  {
   "cell_type": "code",
   "execution_count": null,
   "metadata": {},
   "outputs": [],
   "source": [
    "transfer_percent_diag_1 = {}\n",
    "transfer_percent_diag_2 = {}\n",
    "transfer_percent_diag_3 = {}\n",
    "for cat in df_visual_diabetic['diag_1'].unique():\n",
    "    transfer_percent_diag_1.update({cat:100*(len(df_visual_diabetic[(df_visual_diabetic['diag_1']==cat) & (df_visual_diabetic['discharge_disposition_id']=='Transferred/Referred')])/len(df_visual_diabetic[df_visual_diabetic['diag_1']==cat]))})\n",
    "    transfer_percent_diag_2.update({cat:100*(len(df_visual_diabetic[(df_visual_diabetic['diag_2']==cat) & (df_visual_diabetic['discharge_disposition_id']=='Transferred/Referred')])/len(df_visual_diabetic[df_visual_diabetic['diag_2']==cat]))})\n",
    "    transfer_percent_diag_3.update({cat:100*(len(df_visual_diabetic[(df_visual_diabetic['diag_3']==cat) & (df_visual_diabetic['discharge_disposition_id']=='Transferred/Referred')])/len(df_visual_diabetic[df_visual_diabetic['diag_3']==cat]))})\n",
    "    "
   ]
  },
  {
   "cell_type": "code",
   "execution_count": null,
   "metadata": {},
   "outputs": [],
   "source": [
    "transfer_percent = pd.DataFrame()\n",
    "for key in transfer_percent_diag_1:\n",
    "    transfer_percent[key]=[transfer_percent_diag_1[key],transfer_percent_diag_2[key],transfer_percent_diag_3[key]]\n",
    "    "
   ]
  },
  {
   "cell_type": "code",
   "execution_count": null,
   "metadata": {},
   "outputs": [],
   "source": [
    "transfer_percent = transfer_percent.T"
   ]
  },
  {
   "cell_type": "code",
   "execution_count": null,
   "metadata": {},
   "outputs": [],
   "source": [
    "transfer_percent.columns=['diag_1','diag_2','diag_3']"
   ]
  },
  {
   "cell_type": "code",
   "execution_count": null,
   "metadata": {},
   "outputs": [],
   "source": [
    "transfer_percent.plot(kind='bar',figsize=(26,10));"
   ]
  },
  {
   "cell_type": "code",
   "execution_count": null,
   "metadata": {},
   "outputs": [],
   "source": [
    "# the rate of transfer of patients who were injured and patients who had musculoskeletal disorders is high(all of them have diabetes).."
   ]
  },
  {
   "cell_type": "code",
   "execution_count": null,
   "metadata": {},
   "outputs": [],
   "source": [
    "pd.crosstab(df_visual_diabetic['insulin'],df_visual_diabetic['age'],margins=True)"
   ]
  },
  {
   "cell_type": "code",
   "execution_count": null,
   "metadata": {},
   "outputs": [],
   "source": [
    "pd.crosstab(df_visual_diabetic['insulin'],df_visual_diabetic['age'],normalize='columns').plot(kind='bar',figsize=(26,10));"
   ]
  },
  {
   "cell_type": "code",
   "execution_count": null,
   "metadata": {},
   "outputs": [],
   "source": [
    "# many children less than thee age of 10 suffer from diabetes and a steady doze of insulin was provided to many of them.."
   ]
  },
  {
   "cell_type": "code",
   "execution_count": null,
   "metadata": {
    "scrolled": true
   },
   "outputs": [],
   "source": [
    "pd.crosstab(df_visual_diabetic['insulin'],df_visual_diabetic['age'],normalize='index').plot(kind='bar',figsize=(26,10));"
   ]
  },
  {
   "cell_type": "code",
   "execution_count": null,
   "metadata": {},
   "outputs": [],
   "source": []
  },
  {
   "cell_type": "code",
   "execution_count": null,
   "metadata": {},
   "outputs": [],
   "source": [
    "pd.crosstab(df_visual_diabetic['insulin'],df_visual_diabetic['diag_1'],margins=True)"
   ]
  },
  {
   "cell_type": "code",
   "execution_count": null,
   "metadata": {},
   "outputs": [],
   "source": [
    "pd.crosstab(df_visual_diabetic['diag_1'],df_visual_diabetic['insulin'],normalize='columns').plot(kind='bar',figsize=(26,10));"
   ]
  },
  {
   "cell_type": "code",
   "execution_count": null,
   "metadata": {},
   "outputs": [],
   "source": [
    "pd.crosstab(df_visual_diabetic['diag_1'],df_visual_diabetic['insulin'],normalize='index').plot(kind='bar',figsize=(26,10));"
   ]
  },
  {
   "cell_type": "code",
   "execution_count": null,
   "metadata": {},
   "outputs": [],
   "source": [
    "pd.crosstab(df_visual_diabetic['diag_2'],df_visual_diabetic['insulin'],normalize='index').plot(kind='bar',figsize=(26,10));"
   ]
  },
  {
   "cell_type": "code",
   "execution_count": null,
   "metadata": {},
   "outputs": [],
   "source": []
  },
  {
   "cell_type": "code",
   "execution_count": null,
   "metadata": {},
   "outputs": [],
   "source": [
    "pd.crosstab(df_visual_diabetic['insulin'],df_visual_diabetic['patient_frequency_categorized'],margins=True)"
   ]
  },
  {
   "cell_type": "code",
   "execution_count": null,
   "metadata": {},
   "outputs": [],
   "source": [
    "# although few patients visited the hospital more than 10 times they were not administered with insulin.."
   ]
  },
  {
   "cell_type": "code",
   "execution_count": null,
   "metadata": {},
   "outputs": [],
   "source": [
    "pd.crosstab(df_visual_diabetic['insulin'],df_visual_diabetic['patient_frequency_categorized'],normalize='columns').plot(kind='bar',figsize=(26,10));"
   ]
  },
  {
   "cell_type": "code",
   "execution_count": null,
   "metadata": {},
   "outputs": [],
   "source": []
  },
  {
   "cell_type": "code",
   "execution_count": null,
   "metadata": {},
   "outputs": [],
   "source": [
    "pd.crosstab(df_visual_diabetic['age'],df_visual_diabetic['diag_1'],margins=True)"
   ]
  },
  {
   "cell_type": "code",
   "execution_count": null,
   "metadata": {},
   "outputs": [],
   "source": [
    "# the age group of 1-20 are least prone to all of these diseases except diabetes.."
   ]
  },
  {
   "cell_type": "code",
   "execution_count": null,
   "metadata": {},
   "outputs": [],
   "source": [
    "pd.crosstab(df_visual_diabetic['age'],df_visual_diabetic['diag_1'],normalize='index').plot(kind='bar',figsize=(26,10));"
   ]
  },
  {
   "cell_type": "code",
   "execution_count": null,
   "metadata": {},
   "outputs": [],
   "source": [
    "# At a young age patients are more prone to diabetes..As age increases the diabetic patients are also prone to circulatory disorders.."
   ]
  },
  {
   "cell_type": "code",
   "execution_count": null,
   "metadata": {},
   "outputs": [],
   "source": [
    "pd.crosstab(df_visual_diabetic['age'],df_visual_diabetic['diag_1'],normalize='columns').plot(kind='bar',figsize=(26,10));"
   ]
  },
  {
   "cell_type": "code",
   "execution_count": null,
   "metadata": {},
   "outputs": [],
   "source": [
    "# Until the age of 50 patients are more prone to diabetes.."
   ]
  },
  {
   "cell_type": "code",
   "execution_count": null,
   "metadata": {},
   "outputs": [],
   "source": [
    "pd.crosstab(df_visual_diabetic['age'],df_visual_diabetic['discharge_disposition_id'],margins=True)"
   ]
  },
  {
   "cell_type": "code",
   "execution_count": null,
   "metadata": {},
   "outputs": [],
   "source": [
    "pd.crosstab(df_visual_diabetic['age'],df_visual_diabetic['discharge_disposition_id'],normalize='columns').plot(kind='bar',figsize=(26,10));"
   ]
  },
  {
   "cell_type": "code",
   "execution_count": null,
   "metadata": {},
   "outputs": [],
   "source": [
    "# Many of the inpatients are of the age 10-20 and 60-70 .."
   ]
  },
  {
   "cell_type": "code",
   "execution_count": null,
   "metadata": {},
   "outputs": [],
   "source": [
    "pd.crosstab(df_visual_diabetic['age'],df_visual_diabetic['discharge_disposition_id'],normalize='index').plot(kind='bar',figsize=(26,10));"
   ]
  },
  {
   "cell_type": "code",
   "execution_count": null,
   "metadata": {},
   "outputs": [],
   "source": [
    "# as Age increases the transfer rate of the patients is also increasing.."
   ]
  },
  {
   "cell_type": "code",
   "execution_count": null,
   "metadata": {},
   "outputs": [],
   "source": [
    "pd.crosstab(df_visual_diabetic['age'],df_visual_diabetic['patient_frequency_categorized'],margins=True)"
   ]
  },
  {
   "cell_type": "code",
   "execution_count": null,
   "metadata": {},
   "outputs": [],
   "source": [
    "pd.crosstab(df_visual_diabetic['age'],df_visual_diabetic['readmitted'],margins=True)"
   ]
  },
  {
   "cell_type": "code",
   "execution_count": null,
   "metadata": {},
   "outputs": [],
   "source": [
    "pd.crosstab(df_visual_diabetic['age'],df_visual_diabetic['readmitted'],normalize='columns').plot(kind='bar',figsize=(26,10));"
   ]
  },
  {
   "cell_type": "code",
   "execution_count": null,
   "metadata": {},
   "outputs": [],
   "source": [
    "pd.crosstab(df_visual_diabetic['age'],df_visual_diabetic['readmitted'],normalize='index').plot(kind='bar',figsize=(26,10));"
   ]
  },
  {
   "cell_type": "code",
   "execution_count": null,
   "metadata": {},
   "outputs": [],
   "source": [
    "# add this without inference.."
   ]
  },
  {
   "cell_type": "code",
   "execution_count": null,
   "metadata": {},
   "outputs": [],
   "source": [
    "pd.crosstab(df_visual_diabetic['age'],df_visual_diabetic['patient_frequency_categorized'],normalize='columns').plot(kind='bar',figsize=(26,10));"
   ]
  },
  {
   "cell_type": "code",
   "execution_count": null,
   "metadata": {},
   "outputs": [],
   "source": [
    "# Patientss who are in the age 20-50 tend to visit the hospital more often.."
   ]
  },
  {
   "cell_type": "code",
   "execution_count": null,
   "metadata": {},
   "outputs": [],
   "source": [
    "pd.crosstab(df_visual_diabetic['age'],df_visual_diabetic['patient_frequency_categorized'],normalize='index').plot(kind='bar',figsize=(26,10));"
   ]
  },
  {
   "cell_type": "code",
   "execution_count": null,
   "metadata": {},
   "outputs": [],
   "source": [
    "# Many patients in all age group visit the hospital only once.."
   ]
  },
  {
   "cell_type": "code",
   "execution_count": null,
   "metadata": {},
   "outputs": [],
   "source": [
    "pd.crosstab(df_visual_diabetic['diag_1'],df_visual_diabetic['discharge_disposition_id'],margins=True)"
   ]
  },
  {
   "cell_type": "code",
   "execution_count": null,
   "metadata": {},
   "outputs": [],
   "source": [
    "pd.crosstab(df_visual_diabetic['diag_1'],df_visual_diabetic['discharge_disposition_id'],normalize='columns').plot(kind='bar',figsize=(26,10));"
   ]
  },
  {
   "cell_type": "code",
   "execution_count": null,
   "metadata": {},
   "outputs": [],
   "source": [
    "pd.crosstab(df_visual_diabetic['diag_1'],df_visual_diabetic['discharge_disposition_id'],normalize='index').plot(kind='bar',figsize=(26,10));"
   ]
  },
  {
   "cell_type": "code",
   "execution_count": null,
   "metadata": {},
   "outputs": [],
   "source": []
  },
  {
   "cell_type": "code",
   "execution_count": null,
   "metadata": {},
   "outputs": [],
   "source": [
    "pd.crosstab(df_visual_diabetic['diag_1'],df_visual_diabetic['patient_frequency_categorized'],margins=True)"
   ]
  },
  {
   "cell_type": "code",
   "execution_count": null,
   "metadata": {},
   "outputs": [],
   "source": [
    "# circulatory respiratory and patients with other disorders tend to visit the hospital more number of times.."
   ]
  },
  {
   "cell_type": "code",
   "execution_count": null,
   "metadata": {},
   "outputs": [],
   "source": [
    "pd.crosstab(df_visual_diabetic['diag_1'],df_visual_diabetic['patient_frequency_categorized'],normalize='columns').plot(kind='bar',figsize=(26,10));"
   ]
  },
  {
   "cell_type": "code",
   "execution_count": null,
   "metadata": {},
   "outputs": [],
   "source": [
    "# "
   ]
  },
  {
   "cell_type": "code",
   "execution_count": null,
   "metadata": {},
   "outputs": [],
   "source": [
    "pd.crosstab(df_visual_diabetic['diag_1'],df_visual_diabetic['patient_frequency_categorized'],normalize='index').plot(kind='bar',figsize=(26,10));"
   ]
  },
  {
   "cell_type": "code",
   "execution_count": null,
   "metadata": {},
   "outputs": [],
   "source": [
    "# patients with respiratory and other illness tend to visit the hospital often.."
   ]
  },
  {
   "cell_type": "code",
   "execution_count": null,
   "metadata": {},
   "outputs": [],
   "source": [
    "pd.crosstab(df_visual_diabetic['discharge_disposition_id'],df_visual_diabetic['patient_frequency_categorized'],margins=True)"
   ]
  },
  {
   "cell_type": "code",
   "execution_count": null,
   "metadata": {},
   "outputs": [],
   "source": [
    "# add anyways.."
   ]
  },
  {
   "cell_type": "code",
   "execution_count": null,
   "metadata": {},
   "outputs": [],
   "source": [
    "pd.crosstab(df_visual_diabetic['discharge_disposition_id'],df_visual_diabetic['patient_frequency_categorized'],normalize='columns').plot(kind='bar',figsize=(26,10));"
   ]
  },
  {
   "cell_type": "code",
   "execution_count": null,
   "metadata": {},
   "outputs": [],
   "source": [
    "pd.crosstab(df_visual_diabetic['discharge_disposition_id'],df_visual_diabetic['patient_frequency_categorized'],normalize='index').plot(kind='bar',figsize=(26,10));"
   ]
  },
  {
   "cell_type": "code",
   "execution_count": null,
   "metadata": {},
   "outputs": [],
   "source": [
    "pd.crosstab(df_visual_diabetic['diag_1'],df_visual_diabetic['readmitted'],margins=True)"
   ]
  },
  {
   "cell_type": "code",
   "execution_count": null,
   "metadata": {},
   "outputs": [],
   "source": [
    "pd.crosstab(df_visual_diabetic['diag_1'],df_visual_diabetic['readmitted'],normalize='columns').plot(kind='bar',figsize=(26,10));"
   ]
  },
  {
   "cell_type": "code",
   "execution_count": null,
   "metadata": {},
   "outputs": [],
   "source": [
    "pd.crosstab(df_visual_diabetic['diag_1'],df_visual_diabetic['readmitted'],normalize='index').plot(kind='bar',figsize=(26,10));"
   ]
  },
  {
   "cell_type": "code",
   "execution_count": null,
   "metadata": {},
   "outputs": [],
   "source": [
    "pd.crosstab(df_visual_diabetic['discharge_disposition_id'],df_visual_diabetic['readmitted'],margins=True)"
   ]
  },
  {
   "cell_type": "code",
   "execution_count": null,
   "metadata": {},
   "outputs": [],
   "source": [
    "# add anyways.."
   ]
  },
  {
   "cell_type": "code",
   "execution_count": null,
   "metadata": {},
   "outputs": [],
   "source": [
    "pd.crosstab(df_visual_diabetic['discharge_disposition_id'],df_visual_diabetic['readmitted'],normalize='columns').plot(kind='bar',figsize=(26,10));"
   ]
  },
  {
   "cell_type": "code",
   "execution_count": null,
   "metadata": {
    "scrolled": true
   },
   "outputs": [],
   "source": [
    "pd.crosstab(df_visual_diabetic['discharge_disposition_id'],df_visual_diabetic['readmitted'],normalize='index').plot(kind='bar',figsize=(26,10));"
   ]
  },
  {
   "cell_type": "code",
   "execution_count": null,
   "metadata": {},
   "outputs": [],
   "source": [
    "pd.crosstab(df_visual_diabetic['patient_frequency_categorized'],df_visual_diabetic['readmitted'],margins=True)"
   ]
  },
  {
   "cell_type": "code",
   "execution_count": null,
   "metadata": {},
   "outputs": [],
   "source": [
    "# Nearly 4200 patients were readmitted in the first instance itself.."
   ]
  },
  {
   "cell_type": "code",
   "execution_count": null,
   "metadata": {},
   "outputs": [],
   "source": [
    "pd.crosstab(df_visual_diabetic['patient_frequency_categorized'],df_visual_diabetic['readmitted'],normalize='columns').plot(kind='bar',figsize=(26,10));"
   ]
  },
  {
   "cell_type": "code",
   "execution_count": null,
   "metadata": {},
   "outputs": [],
   "source": [
    "# patients who visit the hospital more than once are more likely to be readmitted.."
   ]
  },
  {
   "cell_type": "code",
   "execution_count": null,
   "metadata": {},
   "outputs": [],
   "source": [
    "pd.crosstab(df_visual_diabetic['patient_frequency_categorized'],df_visual_diabetic['readmitted'],normalize='index').plot(kind='bar',figsize=(26,10));"
   ]
  },
  {
   "cell_type": "code",
   "execution_count": null,
   "metadata": {},
   "outputs": [],
   "source": []
  },
  {
   "cell_type": "code",
   "execution_count": null,
   "metadata": {},
   "outputs": [],
   "source": [
    "pd.crosstab(df_visual_diabetic['age'],df_visual_diabetic['readmitted'],normalize='columns').plot(kind='bar',figsize=(26,10));"
   ]
  },
  {
   "cell_type": "code",
   "execution_count": null,
   "metadata": {},
   "outputs": [],
   "source": [
    "pd.crosstab(df_visual_diabetic['age'],df_visual_diabetic['readmitted'],normalize='index').plot(kind='bar',figsize=(26,10));"
   ]
  },
  {
   "cell_type": "code",
   "execution_count": null,
   "metadata": {},
   "outputs": [],
   "source": []
  },
  {
   "cell_type": "code",
   "execution_count": null,
   "metadata": {},
   "outputs": [],
   "source": [
    "pd.crosstab(df_visual_diabetic['age'],df_visual_diabetic['insulin'],normalize='columns').plot(kind='bar',figsize=(26,10));"
   ]
  },
  {
   "cell_type": "code",
   "execution_count": null,
   "metadata": {},
   "outputs": [],
   "source": []
  },
  {
   "cell_type": "code",
   "execution_count": null,
   "metadata": {},
   "outputs": [],
   "source": [
    "pd.crosstab(df_visual_diabetic['age'],df_visual_diabetic['insulin'],normalize='index').plot(kind='bar',figsize=(26,10));"
   ]
  },
  {
   "cell_type": "code",
   "execution_count": null,
   "metadata": {},
   "outputs": [],
   "source": [
    "# diabetesMed,change,age,insulin,A1Cresult,max_glu_serum"
   ]
  },
  {
   "cell_type": "code",
   "execution_count": null,
   "metadata": {},
   "outputs": [],
   "source": [
    "pd.crosstab(df_visual_diabetic['insulin'],df_visual_diabetic['readmitted'],normalize='index').plot(kind='bar',figsize=(26,10));"
   ]
  },
  {
   "cell_type": "code",
   "execution_count": null,
   "metadata": {},
   "outputs": [],
   "source": []
  },
  {
   "cell_type": "code",
   "execution_count": null,
   "metadata": {},
   "outputs": [],
   "source": [
    "pd.crosstab(df_visual_diabetic['insulin'],df_visual_diabetic['age'],normalize='index').plot(kind='bar',figsize=(26,10));"
   ]
  },
  {
   "cell_type": "code",
   "execution_count": null,
   "metadata": {},
   "outputs": [],
   "source": []
  },
  {
   "cell_type": "code",
   "execution_count": null,
   "metadata": {},
   "outputs": [],
   "source": [
    "pd.crosstab(df_visual_diabetic['insulin'],df_visual_diabetic['age'],normalize='index').plot(kind='bar',figsize=(26,10));"
   ]
  },
  {
   "cell_type": "code",
   "execution_count": null,
   "metadata": {},
   "outputs": [],
   "source": []
  },
  {
   "cell_type": "code",
   "execution_count": null,
   "metadata": {},
   "outputs": [],
   "source": []
  },
  {
   "cell_type": "code",
   "execution_count": null,
   "metadata": {},
   "outputs": [],
   "source": [
    "pd.crosstab(df_visual_diabetic['diabetesMed'],df_visual_diabetic['age'],normalize='columns').plot(kind='bar',figsize=(26,10));"
   ]
  },
  {
   "cell_type": "code",
   "execution_count": null,
   "metadata": {},
   "outputs": [],
   "source": []
  },
  {
   "cell_type": "code",
   "execution_count": null,
   "metadata": {},
   "outputs": [],
   "source": [
    "pd.crosstab(df_visual_diabetic['diabetesMed'],df_visual_diabetic['age'],normalize='index').plot(kind='bar',figsize=(26,10));"
   ]
  },
  {
   "cell_type": "code",
   "execution_count": null,
   "metadata": {},
   "outputs": [],
   "source": []
  },
  {
   "cell_type": "code",
   "execution_count": null,
   "metadata": {},
   "outputs": [],
   "source": [
    "pd.crosstab(df_visual_diabetic['age'],df_visual_diabetic['diabetesMed'],normalize='index').plot(kind='bar',figsize=(26,10));"
   ]
  },
  {
   "cell_type": "code",
   "execution_count": null,
   "metadata": {},
   "outputs": [],
   "source": []
  },
  {
   "cell_type": "code",
   "execution_count": null,
   "metadata": {},
   "outputs": [],
   "source": [
    "pd.crosstab(df_visual_diabetic['age'],df_visual_diabetic['diabetesMed'],normalize='columns').plot(kind='bar',figsize=(26,10));"
   ]
  },
  {
   "cell_type": "code",
   "execution_count": null,
   "metadata": {},
   "outputs": [],
   "source": []
  },
  {
   "cell_type": "code",
   "execution_count": null,
   "metadata": {},
   "outputs": [],
   "source": []
  },
  {
   "cell_type": "code",
   "execution_count": null,
   "metadata": {},
   "outputs": [],
   "source": [
    "pd.crosstab(df_visual_diabetic['age'],df_visual_diabetic['A1Cresult'],normalize='columns',margins=True)"
   ]
  },
  {
   "cell_type": "code",
   "execution_count": null,
   "metadata": {},
   "outputs": [],
   "source": []
  },
  {
   "cell_type": "code",
   "execution_count": null,
   "metadata": {},
   "outputs": [],
   "source": [
    "pd.crosstab(df_visual_diabetic['age'],df_visual_diabetic['A1Cresult'],normalize='index').plot(kind='bar',figsize=(26,10));"
   ]
  },
  {
   "cell_type": "code",
   "execution_count": null,
   "metadata": {},
   "outputs": [],
   "source": []
  },
  {
   "cell_type": "code",
   "execution_count": null,
   "metadata": {},
   "outputs": [],
   "source": [
    "pd.crosstab(df_visual_diabetic['age'],df_visual_diabetic['A1Cresult'],normalize='columns').plot(kind='bar',figsize=(26,10));"
   ]
  },
  {
   "cell_type": "code",
   "execution_count": null,
   "metadata": {},
   "outputs": [],
   "source": []
  },
  {
   "cell_type": "code",
   "execution_count": null,
   "metadata": {},
   "outputs": [],
   "source": [
    "pd.crosstab(df_visual_diabetic['A1Cresult'],df_visual_diabetic['age'],normalize='columns').plot(kind='bar',figsize=(26,10));"
   ]
  },
  {
   "cell_type": "code",
   "execution_count": null,
   "metadata": {},
   "outputs": [],
   "source": []
  },
  {
   "cell_type": "code",
   "execution_count": null,
   "metadata": {},
   "outputs": [],
   "source": [
    "pd.crosstab(df_visual_diabetic['A1Cresult'],df_visual_diabetic['age'],normalize='index').plot(kind='bar',figsize=(26,10));"
   ]
  },
  {
   "cell_type": "code",
   "execution_count": null,
   "metadata": {},
   "outputs": [],
   "source": []
  },
  {
   "cell_type": "code",
   "execution_count": null,
   "metadata": {},
   "outputs": [],
   "source": [
    "pd.crosstab(df_visual_diabetic['max_glu_serum'],df_visual_diabetic['age'],normalize='columns').plot(kind='bar',figsize=(26,10));"
   ]
  },
  {
   "cell_type": "code",
   "execution_count": null,
   "metadata": {},
   "outputs": [],
   "source": []
  },
  {
   "cell_type": "code",
   "execution_count": null,
   "metadata": {},
   "outputs": [],
   "source": [
    "pd.crosstab(df_visual_diabetic['max_glu_serum'],df_visual_diabetic['age'],normalize='index').plot(kind='bar',figsize=(26,10));"
   ]
  },
  {
   "cell_type": "code",
   "execution_count": null,
   "metadata": {},
   "outputs": [],
   "source": []
  },
  {
   "cell_type": "code",
   "execution_count": null,
   "metadata": {},
   "outputs": [],
   "source": []
  },
  {
   "cell_type": "code",
   "execution_count": null,
   "metadata": {},
   "outputs": [],
   "source": [
    "df_visual_diabetic.drop(columns=['patient_frequency_categorized'],inplace=True)"
   ]
  },
  {
   "cell_type": "code",
   "execution_count": null,
   "metadata": {},
   "outputs": [],
   "source": [
    "df_visual_diabetic.drop(columns=['patient_nbr'],inplace=True)"
   ]
  },
  {
   "cell_type": "code",
   "execution_count": null,
   "metadata": {},
   "outputs": [],
   "source": [
    "index_to_be_dropped = df_visual_diabetic[df_visual_diabetic['discharge_disposition_id']=='Expired'].index"
   ]
  },
  {
   "cell_type": "code",
   "execution_count": null,
   "metadata": {},
   "outputs": [],
   "source": [
    "df_visual_diabetic.drop(index_to_be_dropped,inplace=True)"
   ]
  },
  {
   "cell_type": "code",
   "execution_count": null,
   "metadata": {},
   "outputs": [],
   "source": [
    "df_visual_diabetic.to_csv('Diabetic_data_for_stats.csv')"
   ]
  },
  {
   "cell_type": "code",
   "execution_count": null,
   "metadata": {},
   "outputs": [],
   "source": []
  },
  {
   "cell_type": "markdown",
   "metadata": {},
   "source": [
    "# Statistical Test"
   ]
  },
  {
   "cell_type": "code",
   "execution_count": null,
   "metadata": {},
   "outputs": [],
   "source": [
    "df_stat_diabetic = pd.read_csv('Diabetic_data_for_stats.csv',index_col=0)\n",
    "\n",
    "\n",
    "df_stat_diabetic.head()"
   ]
  },
  {
   "cell_type": "code",
   "execution_count": null,
   "metadata": {},
   "outputs": [],
   "source": [
    "df_stat_diabetic.isnull().sum()"
   ]
  },
  {
   "cell_type": "code",
   "execution_count": null,
   "metadata": {},
   "outputs": [],
   "source": [
    "# mode imputation for statistical analysis"
   ]
  },
  {
   "cell_type": "code",
   "execution_count": null,
   "metadata": {},
   "outputs": [],
   "source": [
    "for col in ['race','diag_2','diag_3']:\n",
    "    df_stat_diabetic[col] = df_stat_diabetic[col].fillna(df_stat_diabetic[col].mode()[0])"
   ]
  },
  {
   "cell_type": "code",
   "execution_count": null,
   "metadata": {},
   "outputs": [],
   "source": [
    "df_stat_diabetic.isnull().sum()"
   ]
  },
  {
   "cell_type": "code",
   "execution_count": null,
   "metadata": {},
   "outputs": [],
   "source": [
    "df_stat_diabetic.shape"
   ]
  },
  {
   "cell_type": "code",
   "execution_count": null,
   "metadata": {
    "scrolled": true
   },
   "outputs": [],
   "source": [
    "quasi_constant_feat = []\n",
    "\n",
    "for feature in df_stat_diabetic.columns:\n",
    "\n",
    "    predominant = (df_stat_diabetic[feature].value_counts() / np.float(len(df_stat_diabetic))).sort_values(ascending=False).values[0]\n",
    "\n",
    "    if predominant > 0.998:\n",
    "        \n",
    "        quasi_constant_feat.append(feature)\n",
    "\n",
    "len(quasi_constant_feat)"
   ]
  },
  {
   "cell_type": "code",
   "execution_count": null,
   "metadata": {},
   "outputs": [],
   "source": [
    "quasi_constant_feat"
   ]
  },
  {
   "cell_type": "markdown",
   "metadata": {},
   "source": [
    "### CHI-SQUARED TEST FOR INDEPENDENCE"
   ]
  },
  {
   "cell_type": "code",
   "execution_count": null,
   "metadata": {},
   "outputs": [],
   "source": [
    "categorical_columns = df_stat_diabetic.select_dtypes(include='object').columns.tolist()"
   ]
  },
  {
   "cell_type": "code",
   "execution_count": null,
   "metadata": {},
   "outputs": [],
   "source": [
    "# define a function that returns a table, a chi-square value, and a p value\n",
    "def chisquare_test(df, var_list, target, null_list=[]):\n",
    "    for var in var_list:\n",
    "        print('\\n\\n',var.upper())\n",
    "        chi_test = pd.crosstab(df[var], df[target])\n",
    "        display(chi_test)\n",
    "        \n",
    "        chisq_value, pvalue, dof, expected = chi2_contingency(chi_test)\n",
    "        print('---'*10,'\\nExpected Chi table ')\n",
    "        display(pd.DataFrame(expected,index=chi_test.index,columns=chi_test.columns))\n",
    "        print(f\"\"\"Chi-square value: {chisq_value:.2f}\n",
    "p-value\\t\\t: {pvalue:.3f}         for      {var.upper()}\\n\"\"\")\n",
    "        print('===='*30)\n",
    "        \n",
    "        if pvalue > 0.05: # adds variables that fail to reject the null hypothesis\n",
    "            null_list.append(var)\n",
    "            \n",
    "    print(f'Failed to Reject null hypothesis: {null_list}')"
   ]
  },
  {
   "cell_type": "code",
   "execution_count": null,
   "metadata": {},
   "outputs": [],
   "source": [
    "cols_cat = df_stat_diabetic.select_dtypes(exclude=np.number).columns.to_list()\n",
    "chi_squared_failed_features=[]\n",
    "chisquare_test(df_stat_diabetic, cols_cat,'readmitted',chi_squared_failed_features)"
   ]
  },
  {
   "cell_type": "code",
   "execution_count": null,
   "metadata": {},
   "outputs": [],
   "source": [
    "chi_squared_failed_features"
   ]
  },
  {
   "cell_type": "code",
   "execution_count": null,
   "metadata": {},
   "outputs": [],
   "source": []
  },
  {
   "cell_type": "markdown",
   "metadata": {},
   "source": [
    "### ONE-WAY ANOVA"
   ]
  },
  {
   "cell_type": "code",
   "execution_count": null,
   "metadata": {},
   "outputs": [],
   "source": [
    "# The numerical variables \n",
    "numerical=df_stat_diabetic.select_dtypes(include=np.number).columns.to_list()\n",
    "print(numerical)"
   ]
  },
  {
   "cell_type": "code",
   "execution_count": null,
   "metadata": {},
   "outputs": [],
   "source": [
    "# define a function that performs the ANOVA test and returns a table\n",
    "def anova_table(var_list,target_column, failed_list=[],test_list=[]):\n",
    "    for var in var_list:\n",
    "        print('\\n\\n')\n",
    "        print(var.upper())\n",
    "        print('=='*20)\n",
    "        for cat in df_stat_diabetic[target_column].unique():\n",
    "            print(cat.upper())\n",
    "            data = df_stat_diabetic[df_stat_diabetic[target_column]==cat][var]\n",
    "            shapiro_stats = stats.shapiro(data)\n",
    "            print(shapiro_stats)\n",
    "            if shapiro_stats[1]<0.05:\n",
    "                print(f'\\n-----------------Shapiro test for {var} and {cat} has failed--------------------\\n')\n",
    "                \n",
    "            print('--'*44,'\\n')\n",
    "            test_list.append(data)\n",
    "            \n",
    "        print(f'\\nlevene  test for {var} \\n')\n",
    "        print(stats.levene(*test_list))\n",
    "        print('--'*20,'\\n\\n')   \n",
    "        print(f'\\nanova  test for {var} \\n')\n",
    "        print(stats.f_oneway(*test_list))\n",
    "        print('--'*20,'\\n\\n')\n",
    "        print(f'\\nkruskal  test for {var}\\n')\n",
    "        print(stats.kruskal(*test_list))\n",
    "        print('--'*20,'\\n\\n')\n",
    "        print('=='*50)  \n",
    "        print('\\n\\n')\n",
    "        "
   ]
  },
  {
   "cell_type": "code",
   "execution_count": null,
   "metadata": {},
   "outputs": [],
   "source": [
    "anova_table(numerical,'readmitted')"
   ]
  },
  {
   "cell_type": "code",
   "execution_count": null,
   "metadata": {},
   "outputs": [],
   "source": [
    "# All the numerical features are significant."
   ]
  },
  {
   "cell_type": "code",
   "execution_count": null,
   "metadata": {},
   "outputs": [],
   "source": [
    "insignificant_features = list(set(quasi_constant_feat).union(set(chi_squared_failed_features)))"
   ]
  },
  {
   "cell_type": "code",
   "execution_count": null,
   "metadata": {},
   "outputs": [],
   "source": [
    "insignificant_features"
   ]
  },
  {
   "cell_type": "code",
   "execution_count": null,
   "metadata": {},
   "outputs": [],
   "source": [
    "df_stat_diabetic.drop(columns=insignificant_features,inplace=True)"
   ]
  },
  {
   "cell_type": "code",
   "execution_count": null,
   "metadata": {},
   "outputs": [],
   "source": [
    "df_stat_diabetic.shape"
   ]
  },
  {
   "cell_type": "code",
   "execution_count": null,
   "metadata": {},
   "outputs": [],
   "source": [
    "df_stat_diabetic.to_csv('Diabetic_data_for_encoding.csv')"
   ]
  },
  {
   "cell_type": "markdown",
   "metadata": {},
   "source": [
    "## Encoding Ordinal Variables"
   ]
  },
  {
   "cell_type": "code",
   "execution_count": null,
   "metadata": {},
   "outputs": [],
   "source": [
    "df_encoding_diabetic = pd.read_csv('Diabetic_data_for_encoding.csv',index_col=0)\n",
    "\n",
    "\n",
    "df_encoding_diabetic.head()"
   ]
  },
  {
   "cell_type": "code",
   "execution_count": null,
   "metadata": {},
   "outputs": [],
   "source": [
    "df_encoding_diabetic['age']=df_encoding_diabetic['age'].apply(lambda x: x[1]).astype(int)"
   ]
  },
  {
   "cell_type": "code",
   "execution_count": null,
   "metadata": {},
   "outputs": [],
   "source": [
    "df_encoding_diabetic['max_glu_serum']=df_encoding_diabetic['max_glu_serum'].replace({'None':0,'Norm':1,'>200':200,'>300':300}).astype(int)"
   ]
  },
  {
   "cell_type": "code",
   "execution_count": null,
   "metadata": {},
   "outputs": [],
   "source": [
    "df_encoding_diabetic['A1Cresult']=df_encoding_diabetic['A1Cresult'].replace({'None':0,'Norm':1,'>8':8,'>7':7}).astype(int)"
   ]
  },
  {
   "cell_type": "code",
   "execution_count": null,
   "metadata": {},
   "outputs": [],
   "source": [
    "for col in drugs_list:\n",
    "    if col in df_encoding_diabetic.columns:\n",
    "        df_encoding_diabetic[col].replace({'No':0,'Steady':0.5,'Down':-1,'Up':1},inplace=True)"
   ]
  },
  {
   "cell_type": "code",
   "execution_count": null,
   "metadata": {},
   "outputs": [],
   "source": [
    "df_encoding_diabetic.head()"
   ]
  },
  {
   "cell_type": "markdown",
   "metadata": {},
   "source": [
    "## MultiCollinearity"
   ]
  },
  {
   "cell_type": "code",
   "execution_count": null,
   "metadata": {
    "scrolled": true
   },
   "outputs": [],
   "source": [
    "plt.figure(figsize=(26,13))\n",
    "sns.heatmap(df_encoding_diabetic.corr(),annot=True)\n",
    "plt.xticks(rotation=90)\n",
    "plt.show()"
   ]
  },
  {
   "cell_type": "markdown",
   "metadata": {},
   "source": [
    "### One Hot Encoding of Categorical Data"
   ]
  },
  {
   "cell_type": "code",
   "execution_count": null,
   "metadata": {},
   "outputs": [],
   "source": [
    "df_diabetic_for_ml=pd.get_dummies(df_encoding_diabetic.drop(columns=['readmitted']),drop_first=True)\n",
    "df_diabetic_for_ml['readmitted'] = df_encoding_diabetic['readmitted']"
   ]
  },
  {
   "cell_type": "code",
   "execution_count": null,
   "metadata": {},
   "outputs": [],
   "source": [
    "df_diabetic_for_ml.to_csv('Diabetic_data_for_ml.csv')"
   ]
  },
  {
   "cell_type": "markdown",
   "metadata": {},
   "source": [
    "## TRAIN TEST SPLIT and SCALING"
   ]
  },
  {
   "cell_type": "code",
   "execution_count": null,
   "metadata": {},
   "outputs": [],
   "source": [
    "df_diabetic_for_ml = pd.read_csv('Diabetic_data_for_ml.csv',index_col=0)\n",
    "df_diabetic_for_ml.head()"
   ]
  },
  {
   "cell_type": "code",
   "execution_count": null,
   "metadata": {},
   "outputs": [],
   "source": [
    "X=df_diabetic_for_ml.drop(columns=['readmitted'])\n",
    "y=df_diabetic_for_ml['readmitted']"
   ]
  },
  {
   "cell_type": "code",
   "execution_count": null,
   "metadata": {},
   "outputs": [],
   "source": [
    "X_train, X_test, y_train, y_test = train_test_split(X, y, test_size=0.30,stratify=Y, random_state=42)\n",
    "sc =  StandardScaler()\n",
    "X_train = pd.DataFrame(sc.fit_transform(X_train),columns=X_train.columns)\n",
    "X_test = pd.DataFrame(sc.transform(X_test),columns=X_train.columns)\n",
    "X_train.shape,X_test.shape,y_train.shape,y_test.shape"
   ]
  },
  {
   "cell_type": "code",
   "execution_count": null,
   "metadata": {},
   "outputs": [],
   "source": [
    "X_train.head()"
   ]
  },
  {
   "cell_type": "code",
   "execution_count": null,
   "metadata": {},
   "outputs": [],
   "source": [
    "y_train.head()"
   ]
  },
  {
   "cell_type": "markdown",
   "metadata": {},
   "source": [
    "# MODEL BUILDING"
   ]
  },
  {
   "cell_type": "markdown",
   "metadata": {},
   "source": [
    "## Logistic Regression:"
   ]
  },
  {
   "cell_type": "code",
   "execution_count": null,
   "metadata": {},
   "outputs": [],
   "source": [
    "cv_acc_train = {}\n",
    "cv_acc_test = {}\n",
    "cv_TPR = {}\n",
    "cv_FPR = {}\n",
    "cv_f1_train = {}\n",
    "cv_f1_test = {}\n",
    "cv_acc = {}"
   ]
  },
  {
   "cell_type": "code",
   "execution_count": null,
   "metadata": {},
   "outputs": [],
   "source": [
    "def plot_result(model, name:str):\n",
    "    model.fit(X_train, y_train)\n",
    "    y_pred = model.predict(X_test)\n",
    "\n",
    "    \n",
    "    scores_train = cross_val_score(model, X_train, y_train, cv=5, scoring = 'balanced_accuracy')\n",
    "    scores_test = cross_val_score(model, X_test, y_test, cv=5, scoring = 'balanced_accuracy')  \n",
    "    scores_train_f1 = cross_val_score(model, X_train, y_train, cv=5, scoring = 'f1_micro')\n",
    "    scores_test_f1 = cross_val_score(model, X_test, y_test, cv=5, scoring = 'f1_micro')  \n",
    "    cv_acc_train[name] = round(scores_train.mean(), 4)*100 \n",
    "    cv_acc_test[name] = round(scores_test.mean(), 4)*100\n",
    "    cv_TPR[name] = (confusion_matrix(y_test, y_pred)[1][1]/confusion_matrix(y_test, y_pred)[1].sum())*100 \n",
    "    cv_FPR[name] = (confusion_matrix(y_test, y_pred)[0][1]/confusion_matrix(y_test, y_pred)[0].sum())*100 \n",
    "    cv_f1_train[name] = round(scores_train_f1.mean(), 4)*100 \n",
    "    cv_f1_test[name] = round(scores_test_f1.mean(), 4)*100\n",
    "    cv_acc[name] = accuracy_score(y_test,y_pred)\n",
    "    print('Average Balanced Accuracy (CV=5), Test Set:', scores_test.mean())  \n",
    "    print('Average Balanced Accuracy (CV=5), Training Set: ', scores_train.mean())\n",
    "    print('Average Micro f1 (CV=5), Test Set:', scores_test_f1.mean())  \n",
    "    print('Average Micro f1 (CV=5), Training Set: ', scores_train_f1.mean())\n",
    "\n",
    "    \n",
    "    print(classification_report(y_test, y_pred, zero_division=0))\n",
    "\n",
    "    \n",
    "    plot_confusion_matrix(model, X_test, y_test)\n",
    "    plt.show()"
   ]
  },
  {
   "cell_type": "code",
   "execution_count": null,
   "metadata": {},
   "outputs": [],
   "source": [
    "lgc = LogisticRegression()\n",
    "knc = KNeighborsClassifier()\n",
    "dtc = DecisionTreeClassifier()\n",
    "rfc = RandomForestClassifier()\n",
    "abc = AdaBoostClassifier()\n",
    "gbc = GradientBoostingClassifier()"
   ]
  },
  {
   "cell_type": "code",
   "execution_count": null,
   "metadata": {},
   "outputs": [],
   "source": [
    "plot_result(lgc, \"LogisticRegression_base\")"
   ]
  },
  {
   "cell_type": "code",
   "execution_count": null,
   "metadata": {},
   "outputs": [],
   "source": [
    "plot_result(dtc, \"DecisionTreeClassifier_base\")"
   ]
  },
  {
   "cell_type": "code",
   "execution_count": null,
   "metadata": {},
   "outputs": [],
   "source": [
    "plot_result(rfc, \"RandomForestClassifier_base\")"
   ]
  },
  {
   "cell_type": "code",
   "execution_count": null,
   "metadata": {},
   "outputs": [],
   "source": [
    "plot_result(abc, \"AdaBoostClassifier_base\")"
   ]
  },
  {
   "cell_type": "code",
   "execution_count": null,
   "metadata": {
    "scrolled": true
   },
   "outputs": [],
   "source": [
    "plot_result(gbc, \"GradientBoostingClassifier_base\")"
   ]
  },
  {
   "cell_type": "code",
   "execution_count": null,
   "metadata": {},
   "outputs": [],
   "source": []
  },
  {
   "cell_type": "code",
   "execution_count": null,
   "metadata": {},
   "outputs": [],
   "source": [
    "def plot_multiclass_roc(clf, X_test, y_test, n_classes, figsize=(5,5)):\n",
    "    \n",
    "    \n",
    "    y_score = clf.decision_function(X_test)\n",
    "    \n",
    "    fpr = dict()\n",
    "    tpr = dict()\n",
    "    roc_auc = dict()\n",
    "\n",
    "    # calculate dummies once\n",
    "    y_test_dummies = pd.get_dummies(y_test, drop_first=False).values\n",
    "    for i in range(n_classes):\n",
    "        fpr[i], tpr[i], _ = roc_curve(y_test_dummies[:, i], y_score[:, i])\n",
    "        roc_auc[i] = auc(fpr[i], tpr[i])\n",
    "\n",
    "    # roc for each class\n",
    "    fig, ax = plt.subplots(figsize=figsize)\n",
    "    ax.plot([0, 1], [0, 1], 'k--')\n",
    "    ax.set_xlim([0.0, 1.0])\n",
    "    ax.set_ylim([0.0, 1.05])\n",
    "    ax.set_xlabel('False Positive Rate')\n",
    "    ax.set_ylabel('True Positive Rate')\n",
    "    ax.set_title('Receiver operating characteristic example')\n",
    "    for i in range(n_classes):\n",
    "        ax.plot(fpr[i], tpr[i], label='ROC curve (area = %0.2f) for label %i' % (roc_auc[i], i))\n",
    "    ax.legend(loc=\"best\")\n",
    "    ax.grid(alpha=.4)\n",
    "    sns.despine()\n",
    "    plt.show()"
   ]
  },
  {
   "cell_type": "code",
   "execution_count": null,
   "metadata": {},
   "outputs": [],
   "source": [
    "plot_multiclass_roc(lgc, X_test, y_test, n_classes=3, figsize=(16, 10))"
   ]
  },
  {
   "cell_type": "code",
   "execution_count": null,
   "metadata": {},
   "outputs": [],
   "source": []
  },
  {
   "cell_type": "markdown",
   "metadata": {},
   "source": [
    "# Feature Selection Using Embedded methods"
   ]
  },
  {
   "cell_type": "markdown",
   "metadata": {},
   "source": [
    "### Feature Selection using Logistice Regression"
   ]
  },
  {
   "cell_type": "code",
   "execution_count": null,
   "metadata": {},
   "outputs": [],
   "source": [
    "sel2=SelectFromModel(LogisticRegression(penalty='l1',C=0.015,solver='saga'))\n",
    "sel2.fit(X_train,y_train)"
   ]
  },
  {
   "cell_type": "code",
   "execution_count": null,
   "metadata": {},
   "outputs": [],
   "source": [
    "len(X_train.columns)"
   ]
  },
  {
   "cell_type": "code",
   "execution_count": null,
   "metadata": {},
   "outputs": [],
   "source": [
    "selected_feat = X_train.columns[(sel2.get_support())]"
   ]
  },
  {
   "cell_type": "code",
   "execution_count": null,
   "metadata": {},
   "outputs": [],
   "source": [
    "len(selected_feat)"
   ]
  },
  {
   "cell_type": "code",
   "execution_count": null,
   "metadata": {},
   "outputs": [],
   "source": [
    "df_embedded=df_diabetic_for_ml[selected_feat]"
   ]
  },
  {
   "cell_type": "code",
   "execution_count": null,
   "metadata": {},
   "outputs": [],
   "source": [
    "df_embedded.head()"
   ]
  },
  {
   "cell_type": "code",
   "execution_count": null,
   "metadata": {},
   "outputs": [],
   "source": [
    "X=df_embedded\n",
    "Y=df_diabetic_for_ml['readmitted']"
   ]
  },
  {
   "cell_type": "code",
   "execution_count": null,
   "metadata": {},
   "outputs": [],
   "source": [
    "X_train, X_test, y_train, y_test = train_test_split(X, Y, test_size=0.30,stratify=Y, random_state=42)\n",
    "sc =  StandardScaler()\n",
    "X_train = pd.DataFrame(sc.fit_transform(X_train),columns=X_train.columns)\n",
    "X_test = pd.DataFrame(sc.transform(X_test),columns=X_train.columns)\n",
    "X_train.shape,X_test.shape,y_train.shape,y_test.shape"
   ]
  },
  {
   "cell_type": "code",
   "execution_count": null,
   "metadata": {},
   "outputs": [],
   "source": [
    "log_reg_drop=LogisticRegression()\n",
    "log_reg_drop.fit(X_train,y_train)"
   ]
  },
  {
   "cell_type": "code",
   "execution_count": null,
   "metadata": {
    "scrolled": true
   },
   "outputs": [],
   "source": [
    "print ('Accuracy Score of Train data set for Logistice Regression is',accuracy_score(y_train,log_reg_drop.predict(X_train)))\n",
    "print ('Accuracy Score of Test data set for Logistice Regression is',accuracy_score(y_test,log_reg_drop.predict(X_test)))"
   ]
  },
  {
   "cell_type": "code",
   "execution_count": null,
   "metadata": {},
   "outputs": [],
   "source": [
    "plot_result(log_reg_drop,'LassoLogistic')"
   ]
  },
  {
   "cell_type": "markdown",
   "metadata": {},
   "source": [
    "# MODEL BUILDING : ITERATION 4 (FEATURE SELECTION USING WRAPPER METHODS"
   ]
  },
  {
   "cell_type": "markdown",
   "metadata": {},
   "source": [
    "<a id=\"rfe\"></a>\n",
    "# 5. Recursive Feature Elimination (RFE)"
   ]
  },
  {
   "cell_type": "markdown",
   "metadata": {},
   "source": [
    "It is the process that returns the significant features in the dataset by recursively removing the less significant feature subsets."
   ]
  },
  {
   "cell_type": "code",
   "execution_count": null,
   "metadata": {},
   "outputs": [],
   "source": [
    "df = pd.read_csv('Diabetic_data_for_ml.csv',index_col=0)\n",
    "\n",
    "df.head()"
   ]
  },
  {
   "cell_type": "code",
   "execution_count": null,
   "metadata": {},
   "outputs": [],
   "source": [
    "X = df.drop(columns=['readmitted'])"
   ]
  },
  {
   "cell_type": "code",
   "execution_count": null,
   "metadata": {},
   "outputs": [],
   "source": [
    "y = df['readmitted']"
   ]
  },
  {
   "cell_type": "code",
   "execution_count": null,
   "metadata": {},
   "outputs": [],
   "source": [
    "X_train, X_test, y_train, y_test = train_test_split(X, y, test_size=0.30,stratify=y, random_state=42)"
   ]
  },
  {
   "cell_type": "code",
   "execution_count": null,
   "metadata": {},
   "outputs": [],
   "source": [
    "sc =  StandardScaler()"
   ]
  },
  {
   "cell_type": "code",
   "execution_count": null,
   "metadata": {},
   "outputs": [],
   "source": [
    "X_train = pd.DataFrame(sc.fit_transform(X_train),columns=X_train.columns)"
   ]
  },
  {
   "cell_type": "code",
   "execution_count": null,
   "metadata": {},
   "outputs": [],
   "source": [
    "X_test = pd.DataFrame(sc.transform(X_test),columns=X_train.columns)"
   ]
  },
  {
   "cell_type": "code",
   "execution_count": null,
   "metadata": {
    "scrolled": true
   },
   "outputs": [],
   "source": [
    "X_train.shape,X_test.shape,y_train.shape,y_test.shape"
   ]
  },
  {
   "cell_type": "code",
   "execution_count": null,
   "metadata": {
    "scrolled": true
   },
   "outputs": [],
   "source": [
    "X_train.head()"
   ]
  },
  {
   "cell_type": "code",
   "execution_count": null,
   "metadata": {},
   "outputs": [],
   "source": [
    "y_train.head()"
   ]
  },
  {
   "cell_type": "code",
   "execution_count": null,
   "metadata": {},
   "outputs": [],
   "source": [
    "y_train.unique()"
   ]
  },
  {
   "cell_type": "code",
   "execution_count": null,
   "metadata": {},
   "outputs": [],
   "source": [
    "rfc_hybrid = RandomForestClassifier()\n",
    "\n",
    "rfe_model = RFE(estimator=rfc_hybrid, n_features_to_select = None,verbose=2)\n",
    "\n",
    "\n",
    "rfe_model = rfe_model.fit(X_train, y_train)\n",
    "\n",
    "\n",
    "feat_index = pd.Series(data = rfe_model.ranking_, index = X_train.columns)\n",
    "\n",
    "\n",
    "signi_feat_rfe = feat_index[feat_index==1].index\n",
    "\n",
    "\n",
    "print(signi_feat_rfe)"
   ]
  },
  {
   "cell_type": "code",
   "execution_count": null,
   "metadata": {},
   "outputs": [],
   "source": [
    "df_hybrid = df_diabetic_for_ml[list(signi_feat_rfe)+['readmitted']]"
   ]
  },
  {
   "cell_type": "code",
   "execution_count": null,
   "metadata": {},
   "outputs": [],
   "source": [
    "X = df_hybrid.drop(columns=['readmitted'])"
   ]
  },
  {
   "cell_type": "code",
   "execution_count": null,
   "metadata": {},
   "outputs": [],
   "source": [
    "y = df_hybrid['readmitted']"
   ]
  },
  {
   "cell_type": "code",
   "execution_count": null,
   "metadata": {},
   "outputs": [],
   "source": [
    "X_train, X_test, y_train, y_test = train_test_split(X, y, test_size=0.30,stratify=y, random_state=42)"
   ]
  },
  {
   "cell_type": "code",
   "execution_count": null,
   "metadata": {},
   "outputs": [],
   "source": [
    "sc =  StandardScaler()"
   ]
  },
  {
   "cell_type": "code",
   "execution_count": null,
   "metadata": {},
   "outputs": [],
   "source": [
    "X_train = pd.DataFrame(sc.fit_transform(X_train),columns=X_train.columns)"
   ]
  },
  {
   "cell_type": "code",
   "execution_count": null,
   "metadata": {},
   "outputs": [],
   "source": [
    "X_test = pd.DataFrame(sc.transform(X_test),columns=X_train.columns)"
   ]
  },
  {
   "cell_type": "code",
   "execution_count": null,
   "metadata": {},
   "outputs": [],
   "source": [
    "X_train.shape,X_test.shape,y_train.shape,y_test.shape"
   ]
  },
  {
   "cell_type": "code",
   "execution_count": null,
   "metadata": {},
   "outputs": [],
   "source": [
    "rfe_model = RandomForestClassifier()"
   ]
  },
  {
   "cell_type": "code",
   "execution_count": null,
   "metadata": {},
   "outputs": [],
   "source": [
    "plot_result(rfe_model,'Random_Forest_RFE')"
   ]
  },
  {
   "cell_type": "code",
   "execution_count": null,
   "metadata": {},
   "outputs": [],
   "source": []
  },
  {
   "cell_type": "markdown",
   "metadata": {},
   "source": [
    "# RFE GRADIENT BOOSTING"
   ]
  },
  {
   "cell_type": "code",
   "execution_count": null,
   "metadata": {},
   "outputs": [],
   "source": [
    "df = pd.read_csv('Diabetic_data_for_ml.csv',index_col=0)\n",
    "\n",
    "df.head()"
   ]
  },
  {
   "cell_type": "code",
   "execution_count": null,
   "metadata": {},
   "outputs": [],
   "source": [
    "X = df.drop(columns=['readmitted'])"
   ]
  },
  {
   "cell_type": "code",
   "execution_count": null,
   "metadata": {},
   "outputs": [],
   "source": [
    "y = df['readmitted']"
   ]
  },
  {
   "cell_type": "code",
   "execution_count": null,
   "metadata": {},
   "outputs": [],
   "source": [
    "X_train, X_test, y_train, y_test = train_test_split(X, y, test_size=0.30,stratify=y, random_state=42)"
   ]
  },
  {
   "cell_type": "code",
   "execution_count": null,
   "metadata": {},
   "outputs": [],
   "source": [
    "sc =  StandardScaler()"
   ]
  },
  {
   "cell_type": "code",
   "execution_count": null,
   "metadata": {},
   "outputs": [],
   "source": [
    "X_train = pd.DataFrame(sc.fit_transform(X_train),columns=X_train.columns)"
   ]
  },
  {
   "cell_type": "code",
   "execution_count": null,
   "metadata": {},
   "outputs": [],
   "source": [
    "X_test = pd.DataFrame(sc.transform(X_test),columns=X_train.columns)"
   ]
  },
  {
   "cell_type": "code",
   "execution_count": null,
   "metadata": {
    "scrolled": true
   },
   "outputs": [],
   "source": [
    "X_train.shape,X_test.shape,y_train.shape,y_test.shape"
   ]
  },
  {
   "cell_type": "code",
   "execution_count": null,
   "metadata": {
    "scrolled": true
   },
   "outputs": [],
   "source": [
    "X_train.head()"
   ]
  },
  {
   "cell_type": "code",
   "execution_count": null,
   "metadata": {},
   "outputs": [],
   "source": [
    "y_train.head()"
   ]
  },
  {
   "cell_type": "code",
   "execution_count": null,
   "metadata": {},
   "outputs": [],
   "source": [
    "y_train.unique()"
   ]
  },
  {
   "cell_type": "code",
   "execution_count": null,
   "metadata": {},
   "outputs": [],
   "source": [
    "rfc_hybrid = GradientBoostingClassifier()\n",
    "\n",
    "rfe_model = RFE(estimator=rfc_hybrid, n_features_to_select = None,verbose=2)\n",
    "\n",
    "\n",
    "rfe_model = rfe_model.fit(X_train, y_train)\n",
    "\n",
    "\n",
    "feat_index = pd.Series(data = rfe_model.ranking_, index = X_train.columns)\n",
    "\n",
    "\n",
    "signi_feat_rfe = feat_index[feat_index==1].index\n",
    "\n",
    "\n",
    "print(signi_feat_rfe)"
   ]
  },
  {
   "cell_type": "code",
   "execution_count": null,
   "metadata": {},
   "outputs": [],
   "source": [
    "df_hybrid = df_diabetic_for_ml[list(signi_feat_rfe)+['readmitted']]"
   ]
  },
  {
   "cell_type": "code",
   "execution_count": null,
   "metadata": {},
   "outputs": [],
   "source": [
    "X = df_hybrid.drop(columns=['readmitted'])"
   ]
  },
  {
   "cell_type": "code",
   "execution_count": null,
   "metadata": {},
   "outputs": [],
   "source": [
    "y = df_hybrid['readmitted']"
   ]
  },
  {
   "cell_type": "code",
   "execution_count": null,
   "metadata": {},
   "outputs": [],
   "source": [
    "X_train, X_test, y_train, y_test = train_test_split(X, y, test_size=0.30,stratify=y, random_state=42)"
   ]
  },
  {
   "cell_type": "code",
   "execution_count": null,
   "metadata": {},
   "outputs": [],
   "source": [
    "sc =  StandardScaler()"
   ]
  },
  {
   "cell_type": "code",
   "execution_count": null,
   "metadata": {},
   "outputs": [],
   "source": [
    "X_train = pd.DataFrame(sc.fit_transform(X_train),columns=X_train.columns)"
   ]
  },
  {
   "cell_type": "code",
   "execution_count": null,
   "metadata": {},
   "outputs": [],
   "source": [
    "X_test = pd.DataFrame(sc.transform(X_test),columns=X_train.columns)"
   ]
  },
  {
   "cell_type": "code",
   "execution_count": null,
   "metadata": {},
   "outputs": [],
   "source": [
    "X_train.shape,X_test.shape,y_train.shape,y_test.shape"
   ]
  },
  {
   "cell_type": "code",
   "execution_count": null,
   "metadata": {},
   "outputs": [],
   "source": [
    "model = GradientBoostingClassifier()"
   ]
  },
  {
   "cell_type": "code",
   "execution_count": null,
   "metadata": {},
   "outputs": [],
   "source": [
    "plot_result(model,'Gradient_Boosting_RFE')"
   ]
  },
  {
   "cell_type": "code",
   "execution_count": null,
   "metadata": {},
   "outputs": [],
   "source": []
  },
  {
   "cell_type": "code",
   "execution_count": null,
   "metadata": {},
   "outputs": [],
   "source": []
  },
  {
   "cell_type": "code",
   "execution_count": null,
   "metadata": {},
   "outputs": [],
   "source": [
    "# FINAL STACKING MODEL"
   ]
  },
  {
   "cell_type": "code",
   "execution_count": null,
   "metadata": {},
   "outputs": [],
   "source": [
    "base_learners = [('rf_model', RandomForestClassifier(criterion = 'entropy', max_features = 'auto',\n",
    "                                                     n_estimators = 150, random_state = 10)),\n",
    "\n",
    "                 ('logistic_model',LogisticRegression(penalty='l1',class_weight='balanced',solver='saga',C=0.015,random_state=10)),\n",
    "\n",
    "                 ('xgb_moel',XGBClassifier(base_score=0.5, booster='gbtree',verbosity=None))\n",
    "                 ]\n",
    "\n",
    "\n",
    "\n",
    "stack_model = StackingClassifier(estimators = base_learners, final_estimator = GaussianNB())"
   ]
  },
  {
   "cell_type": "code",
   "execution_count": null,
   "metadata": {},
   "outputs": [],
   "source": [
    "plot_result(stack_model,'Final_Stacking_Classifier')"
   ]
  },
  {
   "cell_type": "code",
   "execution_count": null,
   "metadata": {},
   "outputs": [],
   "source": []
  },
  {
   "cell_type": "code",
   "execution_count": null,
   "metadata": {},
   "outputs": [],
   "source": [
    "d = {}\n",
    "for key in cv_acc_test:\n",
    "    l = [cv_acc[key],cv_acc_test[key],cv_acc_train[key],cv_f1_test[key],cv_f1_train[key],cv_FPR[key],cv_TPR[key]]\n",
    "    d.update({key:l})"
   ]
  },
  {
   "cell_type": "code",
   "execution_count": null,
   "metadata": {},
   "outputs": [],
   "source": [
    "model_performance_df = pd.DataFrame(d,index=['Accuracy','Balanced_Test_Accuracy','Balanced_Train_Accuracy','Micro_f1_Test','Micro_f1_Train','False_Positive_Rate','True_Positive_Rate']).T"
   ]
  },
  {
   "cell_type": "code",
   "execution_count": null,
   "metadata": {},
   "outputs": [],
   "source": [
    "model_performance_df"
   ]
  },
  {
   "cell_type": "code",
   "execution_count": null,
   "metadata": {},
   "outputs": [],
   "source": []
  },
  {
   "cell_type": "code",
   "execution_count": null,
   "metadata": {},
   "outputs": [],
   "source": []
  }
 ],
 "metadata": {
  "kernelspec": {
   "display_name": "Python 3",
   "language": "python",
   "name": "python3"
  },
  "language_info": {
   "codemirror_mode": {
    "name": "ipython",
    "version": 3
   },
   "file_extension": ".py",
   "mimetype": "text/x-python",
   "name": "python",
   "nbconvert_exporter": "python",
   "pygments_lexer": "ipython3",
   "version": "3.8.3"
  }
 },
 "nbformat": 4,
 "nbformat_minor": 4
}
